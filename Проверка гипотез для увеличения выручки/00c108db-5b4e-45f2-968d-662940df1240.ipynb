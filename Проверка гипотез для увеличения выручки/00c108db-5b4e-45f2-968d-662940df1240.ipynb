{
 "cells": [
  {
   "cell_type": "markdown",
   "metadata": {},
   "source": [
    "# Проверка гипотез для увеличения выручки"
   ]
  },
  {
   "cell_type": "markdown",
   "metadata": {},
   "source": [
    "**Задача проекта**\n",
    "\n",
    "Вместе с отделом маркетинга мы подготовили список гипотез для увеличения выручки.\n",
    "Приоритизируем гипотезы, запустим A/B-тест и проанализируем результаты. \n",
    "\n",
    "**Описание данных**\n",
    "\n",
    "Данные для первой части\n",
    "\n",
    "Файл `/datasets/hypothesis.csv`\n",
    "- `Hypothesis` — краткое описание гипотезы;\n",
    "- `Reach` — охват пользователей по 10-балльной шкале;\n",
    "- `Impact` — влияние на пользователей по 10-балльной шкале;\n",
    "- `Confidence` — уверенность в гипотезе по 10-балльной шкале;\n",
    "- `Efforts` — затраты ресурсов на проверку гипотезы по 10-балльной шкале. Чем больше значение `Efforts`, тем дороже проверка гипотезы.\n",
    "\n",
    "**Данные для второй части**\n",
    "\n",
    "Файл `/datasets/orders.csv`\n",
    "- `transactionId` — идентификатор заказа;\n",
    "- `visitorId` — идентификатор пользователя, совершившего заказ;\n",
    "- `date` — дата, когда был совершён заказ;\n",
    "- `revenue` — выручка заказа;\n",
    "- `group` — группа A/B-теста, в которую попал заказ.\n",
    "\n",
    "Файл `/datasets/visitors.csv`\n",
    "- `date` — дата;\n",
    "- `group` — группа A/B-теста;\n",
    "- `visitors` — количество пользователей в указанную дату в указанной группе A/B-теста\n"
   ]
  },
  {
   "cell_type": "markdown",
   "metadata": {},
   "source": [
    "## Приоритизация гипотез."
   ]
  },
  {
   "cell_type": "markdown",
   "metadata": {},
   "source": [
    "В файле `/datasets/hypothesis.csv` 9 гипотез по увеличению выручки интернет-магазина с указанными параметрами `Reach`, `Impact`, `Confidence`, `Effort`.\n",
    "\n",
    "**Задача**\n",
    "\n",
    "- Применим фреймворк `ICE` для приоритизации гипотез. Отсортируем их по убыванию приоритета.\n",
    "- Применим фреймворк `RICE` для приоритизации гипотез. Отсортируем их по убыванию приоритета.\n",
    "- Укажем, как изменилась приоритизация гипотез при применении `RICE` вместо `ICE`. \n"
   ]
  },
  {
   "cell_type": "code",
   "execution_count": 1,
   "metadata": {},
   "outputs": [],
   "source": [
    "import pandas as pd\n",
    "import datetime as dt\n",
    "import numpy as np\n",
    "import matplotlib.pyplot as plt\n",
    "from pandas.plotting import register_matplotlib_converters\n",
    "import warnings\n",
    "import scipy.stats as stats\n",
    "\n",
    "plt.rcParams[\"figure.figsize\"] = (10, 7)"
   ]
  },
  {
   "cell_type": "code",
   "execution_count": 2,
   "metadata": {},
   "outputs": [],
   "source": [
    "try:\n",
    "    data = pd.read_csv('/datasets/hypothesis.csv')\n",
    "except:\n",
    "    data = pd.read_csv('hypothesis.csv')"
   ]
  },
  {
   "cell_type": "code",
   "execution_count": 3,
   "metadata": {},
   "outputs": [
    {
     "data": {
      "text/html": [
       "<div>\n",
       "<style scoped>\n",
       "    .dataframe tbody tr th:only-of-type {\n",
       "        vertical-align: middle;\n",
       "    }\n",
       "\n",
       "    .dataframe tbody tr th {\n",
       "        vertical-align: top;\n",
       "    }\n",
       "\n",
       "    .dataframe thead th {\n",
       "        text-align: right;\n",
       "    }\n",
       "</style>\n",
       "<table border=\"1\" class=\"dataframe\">\n",
       "  <thead>\n",
       "    <tr style=\"text-align: right;\">\n",
       "      <th></th>\n",
       "      <th>Hypothesis</th>\n",
       "      <th>Reach</th>\n",
       "      <th>Impact</th>\n",
       "      <th>Confidence</th>\n",
       "      <th>Efforts</th>\n",
       "    </tr>\n",
       "  </thead>\n",
       "  <tbody>\n",
       "    <tr>\n",
       "      <th>0</th>\n",
       "      <td>Добавить два новых канала привлечения трафика,...</td>\n",
       "      <td>3</td>\n",
       "      <td>10</td>\n",
       "      <td>8</td>\n",
       "      <td>6</td>\n",
       "    </tr>\n",
       "    <tr>\n",
       "      <th>1</th>\n",
       "      <td>Запустить собственную службу доставки, что сок...</td>\n",
       "      <td>2</td>\n",
       "      <td>5</td>\n",
       "      <td>4</td>\n",
       "      <td>10</td>\n",
       "    </tr>\n",
       "    <tr>\n",
       "      <th>2</th>\n",
       "      <td>Добавить блоки рекомендаций товаров на сайт ин...</td>\n",
       "      <td>8</td>\n",
       "      <td>3</td>\n",
       "      <td>7</td>\n",
       "      <td>3</td>\n",
       "    </tr>\n",
       "    <tr>\n",
       "      <th>3</th>\n",
       "      <td>Изменить структура категорий, что увеличит кон...</td>\n",
       "      <td>8</td>\n",
       "      <td>3</td>\n",
       "      <td>3</td>\n",
       "      <td>8</td>\n",
       "    </tr>\n",
       "    <tr>\n",
       "      <th>4</th>\n",
       "      <td>Изменить цвет фона главной страницы, чтобы уве...</td>\n",
       "      <td>3</td>\n",
       "      <td>1</td>\n",
       "      <td>1</td>\n",
       "      <td>1</td>\n",
       "    </tr>\n",
       "    <tr>\n",
       "      <th>5</th>\n",
       "      <td>Добавить страницу отзывов клиентов о магазине,...</td>\n",
       "      <td>3</td>\n",
       "      <td>2</td>\n",
       "      <td>2</td>\n",
       "      <td>3</td>\n",
       "    </tr>\n",
       "    <tr>\n",
       "      <th>6</th>\n",
       "      <td>Показать на главной странице баннеры с актуаль...</td>\n",
       "      <td>5</td>\n",
       "      <td>3</td>\n",
       "      <td>8</td>\n",
       "      <td>3</td>\n",
       "    </tr>\n",
       "    <tr>\n",
       "      <th>7</th>\n",
       "      <td>Добавить форму подписки на все основные страни...</td>\n",
       "      <td>10</td>\n",
       "      <td>7</td>\n",
       "      <td>8</td>\n",
       "      <td>5</td>\n",
       "    </tr>\n",
       "    <tr>\n",
       "      <th>8</th>\n",
       "      <td>Запустить акцию, дающую скидку на товар в день...</td>\n",
       "      <td>1</td>\n",
       "      <td>9</td>\n",
       "      <td>9</td>\n",
       "      <td>5</td>\n",
       "    </tr>\n",
       "  </tbody>\n",
       "</table>\n",
       "</div>"
      ],
      "text/plain": [
       "                                          Hypothesis  Reach  Impact  \\\n",
       "0  Добавить два новых канала привлечения трафика,...      3      10   \n",
       "1  Запустить собственную службу доставки, что сок...      2       5   \n",
       "2  Добавить блоки рекомендаций товаров на сайт ин...      8       3   \n",
       "3  Изменить структура категорий, что увеличит кон...      8       3   \n",
       "4  Изменить цвет фона главной страницы, чтобы уве...      3       1   \n",
       "5  Добавить страницу отзывов клиентов о магазине,...      3       2   \n",
       "6  Показать на главной странице баннеры с актуаль...      5       3   \n",
       "7  Добавить форму подписки на все основные страни...     10       7   \n",
       "8  Запустить акцию, дающую скидку на товар в день...      1       9   \n",
       "\n",
       "   Confidence  Efforts  \n",
       "0           8        6  \n",
       "1           4       10  \n",
       "2           7        3  \n",
       "3           3        8  \n",
       "4           1        1  \n",
       "5           2        3  \n",
       "6           8        3  \n",
       "7           8        5  \n",
       "8           9        5  "
      ]
     },
     "execution_count": 3,
     "metadata": {},
     "output_type": "execute_result"
    }
   ],
   "source": [
    "data"
   ]
  },
  {
   "cell_type": "code",
   "execution_count": 4,
   "metadata": {},
   "outputs": [],
   "source": [
    "#настроим отображение гипотез в таблице\n",
    "pd.options.display.max_colwidth = 150"
   ]
  },
  {
   "cell_type": "code",
   "execution_count": 5,
   "metadata": {},
   "outputs": [
    {
     "data": {
      "text/html": [
       "<div>\n",
       "<style scoped>\n",
       "    .dataframe tbody tr th:only-of-type {\n",
       "        vertical-align: middle;\n",
       "    }\n",
       "\n",
       "    .dataframe tbody tr th {\n",
       "        vertical-align: top;\n",
       "    }\n",
       "\n",
       "    .dataframe thead th {\n",
       "        text-align: right;\n",
       "    }\n",
       "</style>\n",
       "<table border=\"1\" class=\"dataframe\">\n",
       "  <thead>\n",
       "    <tr style=\"text-align: right;\">\n",
       "      <th></th>\n",
       "      <th>Hypothesis</th>\n",
       "      <th>Reach</th>\n",
       "      <th>Impact</th>\n",
       "      <th>Confidence</th>\n",
       "      <th>Efforts</th>\n",
       "    </tr>\n",
       "  </thead>\n",
       "  <tbody>\n",
       "    <tr>\n",
       "      <th>0</th>\n",
       "      <td>Добавить два новых канала привлечения трафика, что позволит привлекать на 30% больше пользователей</td>\n",
       "      <td>3</td>\n",
       "      <td>10</td>\n",
       "      <td>8</td>\n",
       "      <td>6</td>\n",
       "    </tr>\n",
       "    <tr>\n",
       "      <th>1</th>\n",
       "      <td>Запустить собственную службу доставки, что сократит срок доставки заказов</td>\n",
       "      <td>2</td>\n",
       "      <td>5</td>\n",
       "      <td>4</td>\n",
       "      <td>10</td>\n",
       "    </tr>\n",
       "    <tr>\n",
       "      <th>2</th>\n",
       "      <td>Добавить блоки рекомендаций товаров на сайт интернет магазина, чтобы повысить конверсию и средний чек заказа</td>\n",
       "      <td>8</td>\n",
       "      <td>3</td>\n",
       "      <td>7</td>\n",
       "      <td>3</td>\n",
       "    </tr>\n",
       "    <tr>\n",
       "      <th>3</th>\n",
       "      <td>Изменить структура категорий, что увеличит конверсию, т.к. пользователи быстрее найдут нужный товар</td>\n",
       "      <td>8</td>\n",
       "      <td>3</td>\n",
       "      <td>3</td>\n",
       "      <td>8</td>\n",
       "    </tr>\n",
       "    <tr>\n",
       "      <th>4</th>\n",
       "      <td>Изменить цвет фона главной страницы, чтобы увеличить вовлеченность пользователей</td>\n",
       "      <td>3</td>\n",
       "      <td>1</td>\n",
       "      <td>1</td>\n",
       "      <td>1</td>\n",
       "    </tr>\n",
       "    <tr>\n",
       "      <th>5</th>\n",
       "      <td>Добавить страницу отзывов клиентов о магазине, что позволит увеличить количество заказов</td>\n",
       "      <td>3</td>\n",
       "      <td>2</td>\n",
       "      <td>2</td>\n",
       "      <td>3</td>\n",
       "    </tr>\n",
       "    <tr>\n",
       "      <th>6</th>\n",
       "      <td>Показать на главной странице баннеры с актуальными акциями и распродажами, чтобы увеличить конверсию</td>\n",
       "      <td>5</td>\n",
       "      <td>3</td>\n",
       "      <td>8</td>\n",
       "      <td>3</td>\n",
       "    </tr>\n",
       "    <tr>\n",
       "      <th>7</th>\n",
       "      <td>Добавить форму подписки на все основные страницы, чтобы собрать базу клиентов для email-рассылок</td>\n",
       "      <td>10</td>\n",
       "      <td>7</td>\n",
       "      <td>8</td>\n",
       "      <td>5</td>\n",
       "    </tr>\n",
       "    <tr>\n",
       "      <th>8</th>\n",
       "      <td>Запустить акцию, дающую скидку на товар в день рождения</td>\n",
       "      <td>1</td>\n",
       "      <td>9</td>\n",
       "      <td>9</td>\n",
       "      <td>5</td>\n",
       "    </tr>\n",
       "  </tbody>\n",
       "</table>\n",
       "</div>"
      ],
      "text/plain": [
       "                                                                                                     Hypothesis  \\\n",
       "0            Добавить два новых канала привлечения трафика, что позволит привлекать на 30% больше пользователей   \n",
       "1                                     Запустить собственную службу доставки, что сократит срок доставки заказов   \n",
       "2  Добавить блоки рекомендаций товаров на сайт интернет магазина, чтобы повысить конверсию и средний чек заказа   \n",
       "3           Изменить структура категорий, что увеличит конверсию, т.к. пользователи быстрее найдут нужный товар   \n",
       "4                              Изменить цвет фона главной страницы, чтобы увеличить вовлеченность пользователей   \n",
       "5                      Добавить страницу отзывов клиентов о магазине, что позволит увеличить количество заказов   \n",
       "6          Показать на главной странице баннеры с актуальными акциями и распродажами, чтобы увеличить конверсию   \n",
       "7              Добавить форму подписки на все основные страницы, чтобы собрать базу клиентов для email-рассылок   \n",
       "8                                                       Запустить акцию, дающую скидку на товар в день рождения   \n",
       "\n",
       "   Reach  Impact  Confidence  Efforts  \n",
       "0      3      10           8        6  \n",
       "1      2       5           4       10  \n",
       "2      8       3           7        3  \n",
       "3      8       3           3        8  \n",
       "4      3       1           1        1  \n",
       "5      3       2           2        3  \n",
       "6      5       3           8        3  \n",
       "7     10       7           8        5  \n",
       "8      1       9           9        5  "
      ]
     },
     "execution_count": 5,
     "metadata": {},
     "output_type": "execute_result"
    }
   ],
   "source": [
    "data"
   ]
  },
  {
   "cell_type": "code",
   "execution_count": 6,
   "metadata": {},
   "outputs": [],
   "source": [
    "data.columns = data.columns.str.lower() #сделаем написание столбцов строчными буквами"
   ]
  },
  {
   "cell_type": "markdown",
   "metadata": {},
   "source": [
    "**Применим фреймворк `ICE` для приоритизации гипотез.**"
   ]
  },
  {
   "cell_type": "code",
   "execution_count": 7,
   "metadata": {},
   "outputs": [
    {
     "data": {
      "text/html": [
       "<div>\n",
       "<style scoped>\n",
       "    .dataframe tbody tr th:only-of-type {\n",
       "        vertical-align: middle;\n",
       "    }\n",
       "\n",
       "    .dataframe tbody tr th {\n",
       "        vertical-align: top;\n",
       "    }\n",
       "\n",
       "    .dataframe thead th {\n",
       "        text-align: right;\n",
       "    }\n",
       "</style>\n",
       "<table border=\"1\" class=\"dataframe\">\n",
       "  <thead>\n",
       "    <tr style=\"text-align: right;\">\n",
       "      <th></th>\n",
       "      <th>hypothesis</th>\n",
       "      <th>ICE</th>\n",
       "    </tr>\n",
       "  </thead>\n",
       "  <tbody>\n",
       "    <tr>\n",
       "      <th>8</th>\n",
       "      <td>Запустить акцию, дающую скидку на товар в день рождения</td>\n",
       "      <td>16.20</td>\n",
       "    </tr>\n",
       "    <tr>\n",
       "      <th>0</th>\n",
       "      <td>Добавить два новых канала привлечения трафика, что позволит привлекать на 30% больше пользователей</td>\n",
       "      <td>13.33</td>\n",
       "    </tr>\n",
       "    <tr>\n",
       "      <th>7</th>\n",
       "      <td>Добавить форму подписки на все основные страницы, чтобы собрать базу клиентов для email-рассылок</td>\n",
       "      <td>11.20</td>\n",
       "    </tr>\n",
       "    <tr>\n",
       "      <th>6</th>\n",
       "      <td>Показать на главной странице баннеры с актуальными акциями и распродажами, чтобы увеличить конверсию</td>\n",
       "      <td>8.00</td>\n",
       "    </tr>\n",
       "    <tr>\n",
       "      <th>2</th>\n",
       "      <td>Добавить блоки рекомендаций товаров на сайт интернет магазина, чтобы повысить конверсию и средний чек заказа</td>\n",
       "      <td>7.00</td>\n",
       "    </tr>\n",
       "    <tr>\n",
       "      <th>1</th>\n",
       "      <td>Запустить собственную службу доставки, что сократит срок доставки заказов</td>\n",
       "      <td>2.00</td>\n",
       "    </tr>\n",
       "    <tr>\n",
       "      <th>5</th>\n",
       "      <td>Добавить страницу отзывов клиентов о магазине, что позволит увеличить количество заказов</td>\n",
       "      <td>1.33</td>\n",
       "    </tr>\n",
       "    <tr>\n",
       "      <th>3</th>\n",
       "      <td>Изменить структура категорий, что увеличит конверсию, т.к. пользователи быстрее найдут нужный товар</td>\n",
       "      <td>1.12</td>\n",
       "    </tr>\n",
       "    <tr>\n",
       "      <th>4</th>\n",
       "      <td>Изменить цвет фона главной страницы, чтобы увеличить вовлеченность пользователей</td>\n",
       "      <td>1.00</td>\n",
       "    </tr>\n",
       "  </tbody>\n",
       "</table>\n",
       "</div>"
      ],
      "text/plain": [
       "                                                                                                     hypothesis  \\\n",
       "8                                                       Запустить акцию, дающую скидку на товар в день рождения   \n",
       "0            Добавить два новых канала привлечения трафика, что позволит привлекать на 30% больше пользователей   \n",
       "7              Добавить форму подписки на все основные страницы, чтобы собрать базу клиентов для email-рассылок   \n",
       "6          Показать на главной странице баннеры с актуальными акциями и распродажами, чтобы увеличить конверсию   \n",
       "2  Добавить блоки рекомендаций товаров на сайт интернет магазина, чтобы повысить конверсию и средний чек заказа   \n",
       "1                                     Запустить собственную службу доставки, что сократит срок доставки заказов   \n",
       "5                      Добавить страницу отзывов клиентов о магазине, что позволит увеличить количество заказов   \n",
       "3           Изменить структура категорий, что увеличит конверсию, т.к. пользователи быстрее найдут нужный товар   \n",
       "4                              Изменить цвет фона главной страницы, чтобы увеличить вовлеченность пользователей   \n",
       "\n",
       "     ICE  \n",
       "8  16.20  \n",
       "0  13.33  \n",
       "7  11.20  \n",
       "6   8.00  \n",
       "2   7.00  \n",
       "1   2.00  \n",
       "5   1.33  \n",
       "3   1.12  \n",
       "4   1.00  "
      ]
     },
     "execution_count": 7,
     "metadata": {},
     "output_type": "execute_result"
    }
   ],
   "source": [
    "data['ICE'] = round(data['impact'] * data['confidence'] / data['efforts'], 2)\n",
    "data[['hypothesis', 'ICE']].sort_values(by='ICE', ascending=False)"
   ]
  },
  {
   "cell_type": "markdown",
   "metadata": {},
   "source": [
    "**Применим фреймворк `RICE` для приоритизации гипотез.**"
   ]
  },
  {
   "cell_type": "code",
   "execution_count": 8,
   "metadata": {},
   "outputs": [
    {
     "data": {
      "text/html": [
       "<div>\n",
       "<style scoped>\n",
       "    .dataframe tbody tr th:only-of-type {\n",
       "        vertical-align: middle;\n",
       "    }\n",
       "\n",
       "    .dataframe tbody tr th {\n",
       "        vertical-align: top;\n",
       "    }\n",
       "\n",
       "    .dataframe thead th {\n",
       "        text-align: right;\n",
       "    }\n",
       "</style>\n",
       "<table border=\"1\" class=\"dataframe\">\n",
       "  <thead>\n",
       "    <tr style=\"text-align: right;\">\n",
       "      <th></th>\n",
       "      <th>hypothesis</th>\n",
       "      <th>RICE</th>\n",
       "    </tr>\n",
       "  </thead>\n",
       "  <tbody>\n",
       "    <tr>\n",
       "      <th>7</th>\n",
       "      <td>Добавить форму подписки на все основные страницы, чтобы собрать базу клиентов для email-рассылок</td>\n",
       "      <td>112.0</td>\n",
       "    </tr>\n",
       "    <tr>\n",
       "      <th>2</th>\n",
       "      <td>Добавить блоки рекомендаций товаров на сайт интернет магазина, чтобы повысить конверсию и средний чек заказа</td>\n",
       "      <td>56.0</td>\n",
       "    </tr>\n",
       "    <tr>\n",
       "      <th>0</th>\n",
       "      <td>Добавить два новых канала привлечения трафика, что позволит привлекать на 30% больше пользователей</td>\n",
       "      <td>40.0</td>\n",
       "    </tr>\n",
       "    <tr>\n",
       "      <th>6</th>\n",
       "      <td>Показать на главной странице баннеры с актуальными акциями и распродажами, чтобы увеличить конверсию</td>\n",
       "      <td>40.0</td>\n",
       "    </tr>\n",
       "    <tr>\n",
       "      <th>8</th>\n",
       "      <td>Запустить акцию, дающую скидку на товар в день рождения</td>\n",
       "      <td>16.2</td>\n",
       "    </tr>\n",
       "    <tr>\n",
       "      <th>3</th>\n",
       "      <td>Изменить структура категорий, что увеличит конверсию, т.к. пользователи быстрее найдут нужный товар</td>\n",
       "      <td>9.0</td>\n",
       "    </tr>\n",
       "    <tr>\n",
       "      <th>1</th>\n",
       "      <td>Запустить собственную службу доставки, что сократит срок доставки заказов</td>\n",
       "      <td>4.0</td>\n",
       "    </tr>\n",
       "    <tr>\n",
       "      <th>5</th>\n",
       "      <td>Добавить страницу отзывов клиентов о магазине, что позволит увеличить количество заказов</td>\n",
       "      <td>4.0</td>\n",
       "    </tr>\n",
       "    <tr>\n",
       "      <th>4</th>\n",
       "      <td>Изменить цвет фона главной страницы, чтобы увеличить вовлеченность пользователей</td>\n",
       "      <td>3.0</td>\n",
       "    </tr>\n",
       "  </tbody>\n",
       "</table>\n",
       "</div>"
      ],
      "text/plain": [
       "                                                                                                     hypothesis  \\\n",
       "7              Добавить форму подписки на все основные страницы, чтобы собрать базу клиентов для email-рассылок   \n",
       "2  Добавить блоки рекомендаций товаров на сайт интернет магазина, чтобы повысить конверсию и средний чек заказа   \n",
       "0            Добавить два новых канала привлечения трафика, что позволит привлекать на 30% больше пользователей   \n",
       "6          Показать на главной странице баннеры с актуальными акциями и распродажами, чтобы увеличить конверсию   \n",
       "8                                                       Запустить акцию, дающую скидку на товар в день рождения   \n",
       "3           Изменить структура категорий, что увеличит конверсию, т.к. пользователи быстрее найдут нужный товар   \n",
       "1                                     Запустить собственную службу доставки, что сократит срок доставки заказов   \n",
       "5                      Добавить страницу отзывов клиентов о магазине, что позволит увеличить количество заказов   \n",
       "4                              Изменить цвет фона главной страницы, чтобы увеличить вовлеченность пользователей   \n",
       "\n",
       "    RICE  \n",
       "7  112.0  \n",
       "2   56.0  \n",
       "0   40.0  \n",
       "6   40.0  \n",
       "8   16.2  \n",
       "3    9.0  \n",
       "1    4.0  \n",
       "5    4.0  \n",
       "4    3.0  "
      ]
     },
     "execution_count": 8,
     "metadata": {},
     "output_type": "execute_result"
    }
   ],
   "source": [
    "data['RICE'] = data['reach'] * data['impact'] * data['confidence'] / data['efforts'] \n",
    "data[['hypothesis', 'RICE']].sort_values(by='RICE', ascending=False)"
   ]
  },
  {
   "cell_type": "markdown",
   "metadata": {},
   "source": [
    "**Изменения в приоритизации гипотез при применении `RICE` вместо `ICE`**"
   ]
  },
  {
   "cell_type": "markdown",
   "metadata": {},
   "source": [
    "Наиболее перспективные гипотезы в первом случае (`ICE`) оказались 8, 0, 7, 6 и 2. \n",
    "При подсчёте методом `RICE` лидирующими оказались те же гипотезы, только в другом порядке: 7, 2, 0, 6 и 8.\n",
    "Гипотеза, которая была на пермов месте, при учитывании охвата пользователей переместилась на последнее место лидирующей пятёрки.\n",
    "\n",
    "Кроме силы гипотез стоит учитывать еще и то, как много пользваотелей она затронет.\n",
    "У 8-ой гипотезы очень низкая оценка охвата, в то время как у гипотезы под номером 7 она равна максимальному количеству пользователей. \n",
    "\n",
    "Таким образом гипотезы:\n",
    "- (7) Добавить форму подписки на все основные страницы, чтобы собрать базу клиентов для email-рассылок\n",
    "- (2) Добавить блоки рекомендаций товаров на сайт интернет магазина, чтобы повысить конверсию и средний чек заказа\n",
    "- (0) Добавить два новых канала привлечения трафика, что позволит привлекать на 30% больше пользователей\n",
    "\n",
    "в максимальном приоритете."
   ]
  },
  {
   "cell_type": "markdown",
   "metadata": {},
   "source": [
    "## Анализ A/B-теста"
   ]
  },
  {
   "cell_type": "markdown",
   "metadata": {},
   "source": [
    "Провели A/B-тест и получили результаты, которые описаны в файлах `/datasets/orders.csv` и `/datasets/visitors.csv`.\n",
    "\n",
    "**Задача**\n",
    "\n",
    "Проанализируем A/B-тест:\n",
    "1. Построим график кумулятивной выручки по группам. Сделаем выводы и предположения.\n",
    "2. Построим график кумулятивного среднего чека по группам. Сделаем выводы и предположения.\n",
    "3. Построим график относительного изменения кумулятивного среднего чека группы B к группе A. Сделаем выводы и предположения.\n",
    "4. Построим график кумулятивного среднего количества заказов на посетителя по группам. Сделаем выводы и предположения.\n",
    "5. Построим график относительного изменения кумулятивного среднего количества заказов на посетителя группы B к группе A. Сделаем выводы и предположения.\n",
    "6. Построим точечный график количества заказов по пользователям. Сделайте выводы и предположения.\n",
    "7. Посчитаем 95-й и 99-й перцентили количества заказов на пользователя. Выберем границу для определения аномальных пользователей.\n",
    "8. Построим точечный график стоимостей заказов. Сделаем выводы и предположения.\n",
    "9. Посчитаем 95-й и 99-й перцентили стоимости заказов. Выберем границу для определения аномальных заказов.\n",
    "10. Посчитаем статистическую значимость различий в среднем количестве заказов на посетителя между группами по «сырым» данным. Сделаем выводы и предположения.\n",
    "11. Посчитаем статистическую значимость различий в среднем чеке заказа между группами по «сырым» данным. Сделаем выводы и предположения.\n",
    "12. Посчитаем статистическую значимость различий в среднем количестве заказов на посетителя между группами по «очищенным» данным. Сделаем выводы и предположения.\n",
    "13. Посчитаем статистическую значимость различий в среднем чеке заказа между группами по «очищенным» данным. Сделаем выводы и предположения.\n",
    "14. Примем решение по результатам теста и объясните его. Варианты решений: \n",
    "    1. Остановить тест, зафиксировать победу одной из групп. \n",
    "    2. Остановить тест, зафиксировать отсутствие различий между группами. \n",
    "    3. Продолжить тест."
   ]
  },
  {
   "cell_type": "markdown",
   "metadata": {},
   "source": [
    "**Откроем и изучим файлы**"
   ]
  },
  {
   "cell_type": "code",
   "execution_count": 9,
   "metadata": {},
   "outputs": [],
   "source": [
    "try:\n",
    "    orders = pd.read_csv('/datasets/orders.csv')\n",
    "    visitors = pd.read_csv('/datasets/visitors.csv')\n",
    "except:\n",
    "    orders = pd.read_csv('orders.csv')\n",
    "    visitors = pd.read_csv('visitors.csv')"
   ]
  },
  {
   "cell_type": "code",
   "execution_count": 10,
   "metadata": {},
   "outputs": [
    {
     "data": {
      "text/html": [
       "<div>\n",
       "<style scoped>\n",
       "    .dataframe tbody tr th:only-of-type {\n",
       "        vertical-align: middle;\n",
       "    }\n",
       "\n",
       "    .dataframe tbody tr th {\n",
       "        vertical-align: top;\n",
       "    }\n",
       "\n",
       "    .dataframe thead th {\n",
       "        text-align: right;\n",
       "    }\n",
       "</style>\n",
       "<table border=\"1\" class=\"dataframe\">\n",
       "  <thead>\n",
       "    <tr style=\"text-align: right;\">\n",
       "      <th></th>\n",
       "      <th>transactionId</th>\n",
       "      <th>visitorId</th>\n",
       "      <th>date</th>\n",
       "      <th>revenue</th>\n",
       "      <th>group</th>\n",
       "    </tr>\n",
       "  </thead>\n",
       "  <tbody>\n",
       "    <tr>\n",
       "      <th>0</th>\n",
       "      <td>3667963787</td>\n",
       "      <td>3312258926</td>\n",
       "      <td>2019-08-15</td>\n",
       "      <td>1650</td>\n",
       "      <td>B</td>\n",
       "    </tr>\n",
       "    <tr>\n",
       "      <th>1</th>\n",
       "      <td>2804400009</td>\n",
       "      <td>3642806036</td>\n",
       "      <td>2019-08-15</td>\n",
       "      <td>730</td>\n",
       "      <td>B</td>\n",
       "    </tr>\n",
       "    <tr>\n",
       "      <th>2</th>\n",
       "      <td>2961555356</td>\n",
       "      <td>4069496402</td>\n",
       "      <td>2019-08-15</td>\n",
       "      <td>400</td>\n",
       "      <td>A</td>\n",
       "    </tr>\n",
       "    <tr>\n",
       "      <th>3</th>\n",
       "      <td>3797467345</td>\n",
       "      <td>1196621759</td>\n",
       "      <td>2019-08-15</td>\n",
       "      <td>9759</td>\n",
       "      <td>B</td>\n",
       "    </tr>\n",
       "    <tr>\n",
       "      <th>4</th>\n",
       "      <td>2282983706</td>\n",
       "      <td>2322279887</td>\n",
       "      <td>2019-08-15</td>\n",
       "      <td>2308</td>\n",
       "      <td>B</td>\n",
       "    </tr>\n",
       "  </tbody>\n",
       "</table>\n",
       "</div>"
      ],
      "text/plain": [
       "   transactionId   visitorId        date  revenue group\n",
       "0     3667963787  3312258926  2019-08-15     1650     B\n",
       "1     2804400009  3642806036  2019-08-15      730     B\n",
       "2     2961555356  4069496402  2019-08-15      400     A\n",
       "3     3797467345  1196621759  2019-08-15     9759     B\n",
       "4     2282983706  2322279887  2019-08-15     2308     B"
      ]
     },
     "execution_count": 10,
     "metadata": {},
     "output_type": "execute_result"
    }
   ],
   "source": [
    "orders.head(5)"
   ]
  },
  {
   "cell_type": "code",
   "execution_count": 11,
   "metadata": {},
   "outputs": [
    {
     "data": {
      "text/html": [
       "<div>\n",
       "<style scoped>\n",
       "    .dataframe tbody tr th:only-of-type {\n",
       "        vertical-align: middle;\n",
       "    }\n",
       "\n",
       "    .dataframe tbody tr th {\n",
       "        vertical-align: top;\n",
       "    }\n",
       "\n",
       "    .dataframe thead th {\n",
       "        text-align: right;\n",
       "    }\n",
       "</style>\n",
       "<table border=\"1\" class=\"dataframe\">\n",
       "  <thead>\n",
       "    <tr style=\"text-align: right;\">\n",
       "      <th></th>\n",
       "      <th>date</th>\n",
       "      <th>group</th>\n",
       "      <th>visitors</th>\n",
       "    </tr>\n",
       "  </thead>\n",
       "  <tbody>\n",
       "    <tr>\n",
       "      <th>0</th>\n",
       "      <td>2019-08-01</td>\n",
       "      <td>A</td>\n",
       "      <td>719</td>\n",
       "    </tr>\n",
       "    <tr>\n",
       "      <th>1</th>\n",
       "      <td>2019-08-02</td>\n",
       "      <td>A</td>\n",
       "      <td>619</td>\n",
       "    </tr>\n",
       "    <tr>\n",
       "      <th>2</th>\n",
       "      <td>2019-08-03</td>\n",
       "      <td>A</td>\n",
       "      <td>507</td>\n",
       "    </tr>\n",
       "    <tr>\n",
       "      <th>3</th>\n",
       "      <td>2019-08-04</td>\n",
       "      <td>A</td>\n",
       "      <td>717</td>\n",
       "    </tr>\n",
       "    <tr>\n",
       "      <th>4</th>\n",
       "      <td>2019-08-05</td>\n",
       "      <td>A</td>\n",
       "      <td>756</td>\n",
       "    </tr>\n",
       "  </tbody>\n",
       "</table>\n",
       "</div>"
      ],
      "text/plain": [
       "         date group  visitors\n",
       "0  2019-08-01     A       719\n",
       "1  2019-08-02     A       619\n",
       "2  2019-08-03     A       507\n",
       "3  2019-08-04     A       717\n",
       "4  2019-08-05     A       756"
      ]
     },
     "execution_count": 11,
     "metadata": {},
     "output_type": "execute_result"
    }
   ],
   "source": [
    "visitors.head(5)"
   ]
  },
  {
   "cell_type": "code",
   "execution_count": 12,
   "metadata": {},
   "outputs": [
    {
     "name": "stdout",
     "output_type": "stream",
     "text": [
      "<class 'pandas.core.frame.DataFrame'>\n",
      "RangeIndex: 1197 entries, 0 to 1196\n",
      "Data columns (total 5 columns):\n",
      " #   Column         Non-Null Count  Dtype \n",
      "---  ------         --------------  ----- \n",
      " 0   transactionId  1197 non-null   int64 \n",
      " 1   visitorId      1197 non-null   int64 \n",
      " 2   date           1197 non-null   object\n",
      " 3   revenue        1197 non-null   int64 \n",
      " 4   group          1197 non-null   object\n",
      "dtypes: int64(3), object(2)\n",
      "memory usage: 46.9+ KB\n",
      "<class 'pandas.core.frame.DataFrame'>\n",
      "RangeIndex: 62 entries, 0 to 61\n",
      "Data columns (total 3 columns):\n",
      " #   Column    Non-Null Count  Dtype \n",
      "---  ------    --------------  ----- \n",
      " 0   date      62 non-null     object\n",
      " 1   group     62 non-null     object\n",
      " 2   visitors  62 non-null     int64 \n",
      "dtypes: int64(1), object(2)\n",
      "memory usage: 1.6+ KB\n"
     ]
    }
   ],
   "source": [
    "orders.info()\n",
    "visitors.info()"
   ]
  },
  {
   "cell_type": "markdown",
   "metadata": {},
   "source": [
    "**Выполним предобработку данных**"
   ]
  },
  {
   "cell_type": "code",
   "execution_count": 13,
   "metadata": {},
   "outputs": [],
   "source": [
    "#поменяем тип данных на время\n",
    "orders['date'] = pd.to_datetime(orders['date'])\n",
    "visitors['date'] = pd.to_datetime(visitors['date'])"
   ]
  },
  {
   "cell_type": "markdown",
   "metadata": {},
   "source": [
    "**Проверим, есть ли те, кто попали в обе группы**"
   ]
  },
  {
   "cell_type": "code",
   "execution_count": 14,
   "metadata": {},
   "outputs": [
    {
     "name": "stdout",
     "output_type": "stream",
     "text": [
      "Количество пользователей в первой группе: 503\n",
      "Количество пользователей во второй группе: 586\n",
      "Попавших в обе группы: 58\n"
     ]
    }
   ],
   "source": [
    "#список членов группы А\n",
    "orders_A = orders[orders['group'] == 'A']\n",
    "list_A = orders_A['visitorId'].unique()\n",
    "\n",
    "#список членов группы В\n",
    "orders_B = orders[orders['group'] == 'B']\n",
    "list_B = orders_B['visitorId'].unique()\n",
    "\n",
    "#список всех участников\n",
    "orders_total = orders['visitorId']\n",
    "list_total = orders_total.unique()\n",
    "\n",
    "print('Количество пользователей в первой группе:', len(list_A))\n",
    "print('Количество пользователей во второй группе:', len(list_B))\n",
    "print('Попавших в обе группы:', len(list_A) + len(list_B) - len(list_total))"
   ]
  },
  {
   "cell_type": "code",
   "execution_count": 15,
   "metadata": {},
   "outputs": [
    {
     "data": {
      "text/plain": [
       "58"
      ]
     },
     "execution_count": 15,
     "metadata": {},
     "output_type": "execute_result"
    }
   ],
   "source": [
    "#список visitorId, попавших в обе группы\n",
    "double = []\n",
    "for i in list_A:\n",
    "    if i in list_B:\n",
    "        double.append(i)\n",
    "len(double)"
   ]
  },
  {
   "cell_type": "markdown",
   "metadata": {},
   "source": [
    "**Удалим тех, кто папол в обе группы**"
   ]
  },
  {
   "cell_type": "code",
   "execution_count": 16,
   "metadata": {},
   "outputs": [],
   "source": [
    "orders = orders.query(\"visitorId not in @double\")"
   ]
  },
  {
   "cell_type": "code",
   "execution_count": 17,
   "metadata": {},
   "outputs": [
    {
     "name": "stdout",
     "output_type": "stream",
     "text": [
      "Количество пользователей в первой группе: 503\n",
      "Количество пользователей во второй группе: 586\n"
     ]
    }
   ],
   "source": [
    "print('Количество пользователей в первой группе:', len(list_A))\n",
    "print('Количество пользователей во второй группе:', len(list_B))"
   ]
  },
  {
   "cell_type": "markdown",
   "metadata": {},
   "source": [
    "**Даты проведения теста**"
   ]
  },
  {
   "cell_type": "code",
   "execution_count": 18,
   "metadata": {},
   "outputs": [
    {
     "name": "stdout",
     "output_type": "stream",
     "text": [
      "Даты проведения теста:\n",
      "2019-08-01 00:00:00\n",
      "2019-08-31 00:00:00\n"
     ]
    }
   ],
   "source": [
    "print('Даты проведения теста:')\n",
    "print(orders['date'].min())\n",
    "print(orders['date'].max())"
   ]
  },
  {
   "cell_type": "markdown",
   "metadata": {},
   "source": [
    "**Проверим на пропуски и дубликаты**"
   ]
  },
  {
   "cell_type": "code",
   "execution_count": 19,
   "metadata": {},
   "outputs": [
    {
     "data": {
      "text/plain": [
       "transactionId    0\n",
       "visitorId        0\n",
       "date             0\n",
       "revenue          0\n",
       "group            0\n",
       "dtype: int64"
      ]
     },
     "execution_count": 19,
     "metadata": {},
     "output_type": "execute_result"
    }
   ],
   "source": [
    "orders.isna().sum()"
   ]
  },
  {
   "cell_type": "code",
   "execution_count": 20,
   "metadata": {},
   "outputs": [
    {
     "data": {
      "text/plain": [
       "date        0\n",
       "group       0\n",
       "visitors    0\n",
       "dtype: int64"
      ]
     },
     "execution_count": 20,
     "metadata": {},
     "output_type": "execute_result"
    }
   ],
   "source": [
    "visitors.isna().sum()"
   ]
  },
  {
   "cell_type": "code",
   "execution_count": 21,
   "metadata": {},
   "outputs": [
    {
     "name": "stdout",
     "output_type": "stream",
     "text": [
      "0 0\n"
     ]
    }
   ],
   "source": [
    "#дубликаты\n",
    "print(orders.duplicated().sum(), visitors.duplicated().sum())"
   ]
  },
  {
   "cell_type": "markdown",
   "metadata": {},
   "source": [
    "**ЧТО МЫ ИМЕЕМ:**"
   ]
  },
  {
   "cell_type": "markdown",
   "metadata": {},
   "source": [
    "- мы имеем парный А/В-тест, в нем участвует две группы: А и В;\n",
    "- тест проводится по данным за август с 1 по 31 2019 года;\n",
    "- в группе А находится 445 человек, в группе В - 528. Группа В почти на 16% больше руппы А, это довольно большая разница."
   ]
  },
  {
   "cell_type": "code",
   "execution_count": 22,
   "metadata": {},
   "outputs": [],
   "source": [
    "# Создайте датафрейм datesGroups с уникальными парами значений 'date' и 'group', таблицы orders\n",
    "datesGroups = orders[['date', 'group']].drop_duplicates()\n",
    "\n",
    "ordersAggregated = datesGroups.apply(\n",
    "    lambda x: orders[\n",
    "        np.logical_and(\n",
    "            orders['date'] <= x['date'], orders['group'] == x['group']\n",
    "        )\n",
    "    ].agg(\n",
    "        {\n",
    "            'date': 'max',\n",
    "            'group': 'max',\n",
    "            'transactionId': 'nunique',\n",
    "            'visitorId': 'nunique',\n",
    "            'revenue': 'sum',\n",
    "        }\n",
    "    ),\n",
    "    axis=1,\n",
    ").sort_values(by=['date', 'group'])\n",
    "\n",
    "visitorsAggregated = datesGroups.apply(\n",
    "    lambda x: visitors[\n",
    "        np.logical_and(\n",
    "            visitors['date'] <= x['date'], visitors['group'] == x['group']\n",
    "        )\n",
    "    ].agg({'date': 'max', 'group': 'max', 'visitors': 'sum'}),\n",
    "    axis=1,\n",
    ").sort_values(by=['date', 'group'])\n",
    "\n",
    "cumulativeData = ordersAggregated.merge(\n",
    "    visitorsAggregated, left_on=['date', 'group'], right_on=['date', 'group']\n",
    ")\n",
    "cumulativeData.columns = [\n",
    "    'date',\n",
    "    'group',\n",
    "    'orders',\n",
    "    'buyers',\n",
    "    'revenue',\n",
    "    'visitors',\n",
    "]\n",
    "\n",
    "# датафрейм с кумулятивным количеством заказов и кумулятивной выручкой по дням в группе А\n",
    "cumulativeRevenueA = cumulativeData[cumulativeData['group'] == 'A'][['date', 'revenue', 'orders']]\n",
    "\n",
    "# датафрейм с кумулятивным количеством заказов и кумулятивной выручкой по дням в группе B\n",
    "cumulativeRevenueB = cumulativeData[cumulativeData['group'] == 'B'][['date', 'revenue', 'orders']]"
   ]
  },
  {
   "cell_type": "markdown",
   "metadata": {},
   "source": [
    "### Построим график кумулятивной выручки по группам. Сделаем выводы и предположения."
   ]
  },
  {
   "cell_type": "code",
   "execution_count": 23,
   "metadata": {},
   "outputs": [
    {
     "data": {
      "image/png": "[encoded data removed]",
      "text/plain": [
       "<Figure size 1000x700 with 1 Axes>"
      ]
     },
     "metadata": {},
     "output_type": "display_data"
    }
   ],
   "source": [
    "# Строим график кумулятивной выручки группы А\n",
    "plt.plot(cumulativeRevenueA['date'], cumulativeRevenueA['revenue'], label='A')\n",
    "# Строим график кумулятивной выручки группы B\n",
    "plt.plot(cumulativeRevenueB['date'], cumulativeRevenueB['revenue'], label='B')\n",
    "plt.title('Кумулятивная выручка по группам')\n",
    "plt.xlabel('Дата')\n",
    "plt.ylabel('Выручка')\n",
    "plt.legend()\n",
    "plt.xticks(rotation=45)\n",
    "plt.show()"
   ]
  },
  {
   "cell_type": "markdown",
   "metadata": {},
   "source": [
    "**Вывод**\n",
    "\n",
    "Выручка увеличивается в течение всего теста. Хороший знак. Выручка сегмента В стабильно выше выручки сегмента А. График выручки группы В в определенной точке резко растет. Это может сигнализировать о всплесках числа заказов, либо о появлении очень дорогих заказов в выборке. "
   ]
  },
  {
   "cell_type": "markdown",
   "metadata": {},
   "source": [
    "### Построим график кумулятивного среднего чека по группам. Сделаем выводы и предположения."
   ]
  },
  {
   "cell_type": "code",
   "execution_count": 24,
   "metadata": {},
   "outputs": [
    {
     "data": {
      "image/png": "[encoded data removed]",
      "text/plain": [
       "<Figure size 1000x700 with 1 Axes>"
      ]
     },
     "metadata": {},
     "output_type": "display_data"
    }
   ],
   "source": [
    "#Построим графики среднего чека по группам — разделим кумулятивную выручку на кумулятивное число заказов\n",
    "plt.plot(cumulativeRevenueA['date'], cumulativeRevenueA['revenue']/cumulativeRevenueA['orders'], label='A')\n",
    "plt.plot(cumulativeRevenueB['date'], cumulativeRevenueB['revenue']/cumulativeRevenueB['orders'], label='B')\n",
    "plt.legend() \n",
    "plt.title('Средний чек')\n",
    "plt.xlabel('Дата')\n",
    "plt.ylabel('Величина среднего чека')\n",
    "plt.xticks(rotation=45)\n",
    "plt.show()"
   ]
  },
  {
   "cell_type": "markdown",
   "metadata": {},
   "source": [
    "**Вывод**\n",
    "\n",
    "Средний чек группы А станвится стабильным к концу теста, в то время как у В он постоянно скачет. В середине теста у В резко увеличился средний чек (скачок наверх на графике), возможно, аномально большие заказы собрались ближе к концу Второй группе нужно больше данных, чтобы прийти к реальному среднему чеку и установиться на его уровне... "
   ]
  },
  {
   "cell_type": "markdown",
   "metadata": {},
   "source": [
    "### Построим график относительного изменения кумулятивного среднего чека группы B к группе A. "
   ]
  },
  {
   "cell_type": "code",
   "execution_count": 25,
   "metadata": {},
   "outputs": [
    {
     "data": {
      "image/png": "[encoded data removed]",
      "text/plain": [
       "<Figure size 1000x700 with 1 Axes>"
      ]
     },
     "metadata": {},
     "output_type": "display_data"
    }
   ],
   "source": [
    "# собираем данные в одном датафрейме\n",
    "mergedCumulativeRevenue = cumulativeRevenueA.merge(cumulativeRevenueB, \n",
    "                                                   left_on='date', \n",
    "                                                   right_on='date', \n",
    "                                                   how='left', \n",
    "                                                   suffixes=['A', 'B'])\n",
    "\n",
    "# cтроим отношение средних чеков\n",
    "plt.plot(mergedCumulativeRevenue['date'], (mergedCumulativeRevenue['revenueB']/\n",
    "                                           mergedCumulativeRevenue['ordersB'])/\n",
    "         (mergedCumulativeRevenue['revenueA']/mergedCumulativeRevenue['ordersA'])-1)\n",
    "\n",
    "# добавляем ось X\n",
    "plt.axhline(y=0, color='black', linestyle='--') \n",
    "\n",
    "plt.title('Изменения кумулятивного среднего чека группы B к группе A')\n",
    "plt.xlabel('Дата')\n",
    "plt.ylabel('Относительная разница')\n",
    "plt.xticks(rotation=45)\n",
    "plt.show()"
   ]
  },
  {
   "cell_type": "markdown",
   "metadata": {},
   "source": [
    "**Вывод**\n",
    "\n",
    "В среднем чек В выше А, кроме нескольких точек, когда он сравнивается и падает ниже А. Где-то уж точно спрятались крупные заказы и выбросы! "
   ]
  },
  {
   "cell_type": "markdown",
   "metadata": {},
   "source": [
    "### Построим график кумулятивного среднего количества заказов на посетителя по группам."
   ]
  },
  {
   "cell_type": "code",
   "execution_count": 26,
   "metadata": {},
   "outputs": [],
   "source": [
    "# датафрейм с кумулятивным средним количества заказов на посетителя по дням в группе А\n",
    "cumulativeOrdersA = cumulativeData[cumulativeData['group'] == 'A'][['date', 'orders', 'visitors']]\n",
    "\n",
    "# датафрейм с кумулятивным средним количества заказов на посетителя по дням в группе B\n",
    "cumulativeOrdersB = cumulativeData[cumulativeData['group'] == 'B'][['date', 'orders', 'visitors']]"
   ]
  },
  {
   "cell_type": "code",
   "execution_count": 27,
   "metadata": {},
   "outputs": [
    {
     "data": {
      "image/png": "[encoded data removed]",
      "text/plain": [
       "<Figure size 1000x700 with 1 Axes>"
      ]
     },
     "metadata": {},
     "output_type": "display_data"
    }
   ],
   "source": [
    "#Построим графики среднего чека по группам — разделим кумулятивную выручку на кумулятивное число заказов\n",
    "plt.plot(cumulativeOrdersA['date'], cumulativeOrdersA['orders']/cumulativeOrdersA['visitors'], label='A')\n",
    "plt.plot(cumulativeOrdersB['date'], cumulativeOrdersB['orders']/cumulativeOrdersB['visitors'], label='B')\n",
    "plt.legend() \n",
    "plt.title('Среднее количество заказов на посетителя')\n",
    "plt.xlabel('Дата')\n",
    "plt.ylabel('Заказы на человека')\n",
    "plt.xticks(rotation=45)\n",
    "plt.show()"
   ]
  },
  {
   "cell_type": "markdown",
   "metadata": {},
   "source": [
    "**Вывод**\n",
    "\n",
    "В начале из-за выбросов оба графика взлетают наверх, в потом практически зеркально расходятся: среднее количество заказов сегмента В стабильно выше среднего количества А. При этом оба значения стабилизировались. "
   ]
  },
  {
   "cell_type": "markdown",
   "metadata": {},
   "source": [
    "### Построим график относительного изменения кумулятивного среднего количества заказов на посетителя группы B к группе A"
   ]
  },
  {
   "cell_type": "code",
   "execution_count": 28,
   "metadata": {},
   "outputs": [
    {
     "data": {
      "image/png": "[encoded data removed]",
      "text/plain": [
       "<Figure size 1000x700 with 1 Axes>"
      ]
     },
     "metadata": {},
     "output_type": "display_data"
    }
   ],
   "source": [
    "# собираем данные в одном датафрейме\n",
    "mergedCumulativeOrders = cumulativeOrdersA.merge(cumulativeOrdersB, \n",
    "                                                   left_on='date', \n",
    "                                                   right_on='date', \n",
    "                                                   how='left', \n",
    "                                                   suffixes=['A', 'B'])\n",
    "\n",
    "# cтроим отношение среднего количества\n",
    "plt.plot(mergedCumulativeOrders['date'], (mergedCumulativeOrders['ordersB']/\n",
    "                                           mergedCumulativeOrders['visitorsB'])/\n",
    "         (mergedCumulativeOrders['ordersA']/mergedCumulativeOrders['visitorsA'])-1)\n",
    "\n",
    "# добавляем ось X\n",
    "plt.axhline(y=0, color='black', linestyle='--') \n",
    "\n",
    "plt.title('Изменения кумулятивного среднего количества заказов на посетителя группы B к группе A')\n",
    "plt.xlabel('Дата')\n",
    "plt.ylabel('Относительная разница')\n",
    "plt.xticks(rotation=45)\n",
    "plt.show()"
   ]
  },
  {
   "cell_type": "markdown",
   "metadata": {},
   "source": [
    "**Вывод**\n",
    "\n",
    "Сегмент В стабильно выше сегмента А. То есть, среднее количество заказов на посетителя у группы В выше. Но всё еще могут делать свое дело аномалии. Скоро мы сможем это проверить."
   ]
  },
  {
   "cell_type": "markdown",
   "metadata": {},
   "source": [
    "### Построим точечный график количества заказов по пользователям. "
   ]
  },
  {
   "cell_type": "code",
   "execution_count": 29,
   "metadata": {},
   "outputs": [
    {
     "data": {
      "text/html": [
       "<div>\n",
       "<style scoped>\n",
       "    .dataframe tbody tr th:only-of-type {\n",
       "        vertical-align: middle;\n",
       "    }\n",
       "\n",
       "    .dataframe tbody tr th {\n",
       "        vertical-align: top;\n",
       "    }\n",
       "\n",
       "    .dataframe thead th {\n",
       "        text-align: right;\n",
       "    }\n",
       "</style>\n",
       "<table border=\"1\" class=\"dataframe\">\n",
       "  <thead>\n",
       "    <tr style=\"text-align: right;\">\n",
       "      <th></th>\n",
       "      <th>userId</th>\n",
       "      <th>orders</th>\n",
       "    </tr>\n",
       "  </thead>\n",
       "  <tbody>\n",
       "    <tr>\n",
       "      <th>908</th>\n",
       "      <td>3967698036</td>\n",
       "      <td>3</td>\n",
       "    </tr>\n",
       "    <tr>\n",
       "      <th>55</th>\n",
       "      <td>249864742</td>\n",
       "      <td>3</td>\n",
       "    </tr>\n",
       "    <tr>\n",
       "      <th>478</th>\n",
       "      <td>2108163459</td>\n",
       "      <td>3</td>\n",
       "    </tr>\n",
       "    <tr>\n",
       "      <th>687</th>\n",
       "      <td>2988190573</td>\n",
       "      <td>3</td>\n",
       "    </tr>\n",
       "    <tr>\n",
       "      <th>890</th>\n",
       "      <td>3908431265</td>\n",
       "      <td>3</td>\n",
       "    </tr>\n",
       "  </tbody>\n",
       "</table>\n",
       "</div>"
      ],
      "text/plain": [
       "         userId  orders\n",
       "908  3967698036       3\n",
       "55    249864742       3\n",
       "478  2108163459       3\n",
       "687  2988190573       3\n",
       "890  3908431265       3"
      ]
     },
     "execution_count": 29,
     "metadata": {},
     "output_type": "execute_result"
    }
   ],
   "source": [
    "ordersByUsers = (\n",
    "    orders.groupby('visitorId', as_index=False)\n",
    "    .agg({'transactionId': 'nunique'})\n",
    ")\n",
    "\n",
    "ordersByUsers.columns = ['userId', 'orders']\n",
    "\n",
    "ordersByUsers.sort_values(by='orders', ascending=False).head()"
   ]
  },
  {
   "cell_type": "code",
   "execution_count": 30,
   "metadata": {},
   "outputs": [
    {
     "data": {
      "image/png": "[encoded data removed]",
      "text/plain": [
       "<Figure size 1000x700 with 1 Axes>"
      ]
     },
     "metadata": {},
     "output_type": "display_data"
    }
   ],
   "source": [
    "x_values = pd.Series(range(0,len(ordersByUsers['orders'])))\n",
    "plt.scatter(x_values, ordersByUsers['orders']) \n",
    "plt.title('Количество заказов по пользователям')\n",
    "plt.xlabel('Количетво пользователей')\n",
    "plt.ylabel('Количество заказов')\n",
    "plt.show()"
   ]
  },
  {
   "cell_type": "markdown",
   "metadata": {},
   "source": [
    "**Вывод**\n",
    "\n",
    "В основном пользователи делали 1-2 заказа, но довольно много и тех, кто делал от 3 до 4."
   ]
  },
  {
   "cell_type": "markdown",
   "metadata": {},
   "source": [
    "### Посчитаем 95-й и 99-й перцентили количества заказов на пользователя. Выберем границу для определения аномальных пользователей."
   ]
  },
  {
   "cell_type": "code",
   "execution_count": 31,
   "metadata": {},
   "outputs": [
    {
     "data": {
      "text/plain": [
       "array([1., 2.])"
      ]
     },
     "execution_count": 31,
     "metadata": {},
     "output_type": "execute_result"
    }
   ],
   "source": [
    "np.percentile(ordersByUsers['orders'], [95, 99])"
   ]
  },
  {
   "cell_type": "markdown",
   "metadata": {},
   "source": [
    "**Вывод**\n",
    "\n",
    "Не более 5% пользователей оформляли больше 2 заказов. И 1% пользователей заказывали более четырех раз. \n",
    "Разумно выбрать 2 заказа на одного пользователя за верхнюю границу числа заказов, и отсеять аномальных пользователей по ней."
   ]
  },
  {
   "cell_type": "markdown",
   "metadata": {},
   "source": [
    "### Построим точечный график стоимостей заказов."
   ]
  },
  {
   "cell_type": "code",
   "execution_count": 32,
   "metadata": {},
   "outputs": [
    {
     "data": {
      "image/png": "[encoded data removed]",
      "text/plain": [
       "<Figure size 1000x700 with 1 Axes>"
      ]
     },
     "metadata": {},
     "output_type": "display_data"
    }
   ],
   "source": [
    "x_values = pd.Series(range(0,len(orders['revenue'])))\n",
    "plt.scatter(x_values, orders['revenue']) \n",
    "plt.title('Стоимость заказов')\n",
    "plt.xlabel('Количетво пользователей')\n",
    "plt.ylabel('Стоимость заказов')\n",
    "plt.show()"
   ]
  },
  {
   "cell_type": "code",
   "execution_count": 33,
   "metadata": {},
   "outputs": [
    {
     "data": {
      "text/plain": [
       "2955.0"
      ]
     },
     "execution_count": 33,
     "metadata": {},
     "output_type": "execute_result"
    }
   ],
   "source": [
    "orders['revenue'].median()"
   ]
  },
  {
   "cell_type": "markdown",
   "metadata": {},
   "source": [
    "**Посмотрим на график без сильных выбросов**"
   ]
  },
  {
   "cell_type": "code",
   "execution_count": 34,
   "metadata": {},
   "outputs": [
    {
     "data": {
      "image/png": "[encoded data removed]",
      "text/plain": [
       "<Figure size 1000x700 with 1 Axes>"
      ]
     },
     "metadata": {},
     "output_type": "display_data"
    }
   ],
   "source": [
    "orders_cheap = orders.query('revenue < 400000') #обрезаем крупные выбросы для лучшей видимости\n",
    "\n",
    "x_values = pd.Series(range(0,len(orders_cheap['revenue'])))\n",
    "plt.scatter(x_values, orders_cheap['revenue']) \n",
    "plt.title('Стоимость заказов')\n",
    "plt.xlabel('Количетво пользователей')\n",
    "plt.ylabel('Стоимость заказов')\n",
    "plt.show()"
   ]
  },
  {
   "cell_type": "markdown",
   "metadata": {},
   "source": [
    "**Вывод**\n",
    "\n",
    "Всё, как предполагали: есть немного дорогих заказов. Принято отсеивать от 1% до 5% наблюдений с крайними значениями. "
   ]
  },
  {
   "cell_type": "markdown",
   "metadata": {},
   "source": [
    "### Посчитаем 95-й и 99-й перцентили стоимости заказов. Выберем границу для определения аномальных заказов."
   ]
  },
  {
   "cell_type": "code",
   "execution_count": 35,
   "metadata": {},
   "outputs": [
    {
     "data": {
      "text/plain": [
       "array([26785., 53904.])"
      ]
     },
     "execution_count": 35,
     "metadata": {},
     "output_type": "execute_result"
    }
   ],
   "source": [
    "np.percentile(orders['revenue'], [95, 99])"
   ]
  },
  {
   "cell_type": "markdown",
   "metadata": {},
   "source": [
    "**Вывод**\n",
    "\n",
    "Не более 5% заказов дороже 26785 и не более 1% - 53904\n",
    "\n",
    "Для фильтрации аномалий будем брать границу в 5%."
   ]
  },
  {
   "cell_type": "markdown",
   "metadata": {},
   "source": [
    "### Посчитаем статистическую значимость различий в среднем количестве заказов на посетителя между группами по «сырым» данным"
   ]
  },
  {
   "cell_type": "markdown",
   "metadata": {},
   "source": [
    "*Нулевая гипотеза*: различий в среднем количестве заказов на посетителя между группами нет. \n",
    "\n",
    "*Альтернативная гипотеза*: различия в среднем количестве заказов на посетителя между группами есть.\n",
    "\n",
    "Будем использовать непараметрический тест **Уилкоксона-Манна-Уитни**. Главное отличие непараметрических методов в том, что они работают с рангами, — номерами значений в упорядоченном ряду, — никак не учитывая сами значения. Поэтому к ним прибегают тогда, когда работа с самими значениями невозможна из-за выбросов, сильно сдвигающих параметрические результаты."
   ]
  },
  {
   "cell_type": "code",
   "execution_count": 36,
   "metadata": {},
   "outputs": [
    {
     "name": "stdout",
     "output_type": "stream",
     "text": [
      "P-value: 0.011\n",
      "Относительная разница между сравниваемыми величинами 0.160\n"
     ]
    }
   ],
   "source": [
    "visitors_A = visitors[visitors['group'] == 'A']\n",
    "visitors_B = visitors[visitors['group'] == 'B']\n",
    "\n",
    "#Создадим переменные ordersByUsersA и ordersByUsersB со столбцами ['userId', 'orders']. \n",
    "#В них для пользователей, которые заказывали хотя бы 1 раз, укажем число совершённых заказов. \n",
    "ordersByUsersA = (\n",
    "    orders[orders['group'] == 'A']\n",
    "    .groupby('visitorId', as_index=False)\n",
    "    .agg({'transactionId': pd.Series.nunique})\n",
    ")\n",
    "ordersByUsersA.columns = ['userId', 'orders']\n",
    "\n",
    "ordersByUsersB = (\n",
    "    orders[orders['group'] == 'B']\n",
    "    .groupby('visitorId', as_index=False)\n",
    "    .agg({'transactionId': pd.Series.nunique})\n",
    ")\n",
    "ordersByUsersB.columns = ['userId', 'orders'] \n",
    "\n",
    "sampleA = pd.concat(\n",
    "    [\n",
    "        ordersByUsersA['orders'],\n",
    "        pd.Series(\n",
    "            0,\n",
    "            index=np.arange(\n",
    "                visitors_A['visitors'].sum() - len(ordersByUsersA['orders'])\n",
    "            ),\n",
    "            name='orders',\n",
    "        ),\n",
    "    ],\n",
    "    axis=0,\n",
    ")\n",
    "\n",
    "sampleB = pd.concat(\n",
    "    [\n",
    "        ordersByUsersB['orders'],\n",
    "        pd.Series(\n",
    "            0,\n",
    "            index=np.arange(\n",
    "                visitors_B['visitors'].sum() - len(ordersByUsersB['orders'])\n",
    "            ),\n",
    "            name='orders',\n",
    "        ),\n",
    "    ],\n",
    "    axis=0,\n",
    ")\n",
    "\n",
    "print('P-value:', \"{0:.3f}\".format(stats.mannwhitneyu(sampleA, sampleB)[1]))\n",
    "\n",
    "print('Относительная разница между сравниваемыми величинами', \"{0:.3f}\".format(sampleB.mean() / sampleA.mean() - 1))"
   ]
  },
  {
   "cell_type": "markdown",
   "metadata": {},
   "source": [
    "**Вывод**\n",
    "\n",
    "По «сырым» данным есть различия в среднем числе заказов групп A и B нет. Первое число — p-value = 0.011 меньше 0.05. Значит, нулевую гипотезу о том, что статистически значимых различий в среднем числе заказов на посетителя между группами нет, отвергаем. Относительный прирост среднего группы В к конверсии группы А равен 16%. \n",
    "\n",
    "Осталось сравнить средние чеки по \"сырырм данным\", а затем еще раз обе метрики после удаления выбросов."
   ]
  },
  {
   "cell_type": "markdown",
   "metadata": {},
   "source": [
    "### Посчитаем статистическую значимость различий в среднем чеке заказа между группами по «сырым» данным. "
   ]
  },
  {
   "cell_type": "markdown",
   "metadata": {},
   "source": [
    "*Нулевая гипотеза*: различий в среднем чеке между группами нет. \n",
    "\n",
    "*Альтернативная гипотеза*: различия в среднем чеке между группами есть. "
   ]
  },
  {
   "cell_type": "code",
   "execution_count": 37,
   "metadata": {},
   "outputs": [
    {
     "name": "stdout",
     "output_type": "stream",
     "text": [
      "P-value: 0.829\n",
      "Относительная разница между сравниваемыми величинами: 0.287\n"
     ]
    }
   ],
   "source": [
    "#Чтобы рассчитать статистическую значимость различий в среднем чеке, \n",
    "#передадим критерию mannwhitneyu() данные о выручке с заказов. \n",
    "#А ещё найдём относительные различия в среднем чеке между группами:\n",
    "print('P-value:', '{0:.3f}'.format(stats.mannwhitneyu(orders[orders['group']=='A']['revenue'], \n",
    "                                          orders[orders['group']=='B']['revenue'])[1]))\n",
    "print('Относительная разница между сравниваемыми величинами:', '{0:.3f}'.format(orders[orders['group']=='B']['revenue'].mean()/\n",
    "                       orders[orders['group']=='A']['revenue'].mean()-1)) "
   ]
  },
  {
   "cell_type": "markdown",
   "metadata": {},
   "source": [
    "**Вывод**\n",
    "\n",
    "*P-value* значительно больше 0.05. Значит, причин отвергать нулевую гипотезу и считать, что в среднем чеке есть различия, нет. Впрочем, средний чек группы B значительно выше среднего чека группы A."
   ]
  },
  {
   "cell_type": "markdown",
   "metadata": {},
   "source": [
    "### Посчитаем статистическую значимость различий в среднем количестве заказов на посетителя между группами по «очищенным» данным. "
   ]
  },
  {
   "cell_type": "code",
   "execution_count": 38,
   "metadata": {},
   "outputs": [
    {
     "name": "stdout",
     "output_type": "stream",
     "text": [
      "568     113298937\n",
      "1099    148427295\n",
      "928     204675465\n",
      "33      249864742\n",
      "684     358944393\n",
      "dtype: int64\n",
      "Абсолютные потери: 86\n",
      "Относительные потери: 8.34\n"
     ]
    }
   ],
   "source": [
    "usersWithManyOrders = pd.concat(\n",
    "    [\n",
    "        ordersByUsersA[ordersByUsersA['orders'] > np.percentile(ordersByUsers['orders'], 95)]['userId'],\n",
    "        ordersByUsersB[ordersByUsersB['orders'] > np.percentile(ordersByUsers['orders'], 95)]['userId'],\n",
    "    ],\n",
    "    axis=0,\n",
    ")\n",
    "usersWithExpensiveOrders = orders[orders['revenue'] > np.percentile(orders['revenue'], 95)]['visitorId']\n",
    "abnormalUsers = (\n",
    "    pd.concat([usersWithManyOrders, usersWithExpensiveOrders], axis=0)\n",
    "    .drop_duplicates()\n",
    "    .sort_values()\n",
    ")\n",
    "\n",
    "print(abnormalUsers.head(5))\n",
    "print('Абсолютные потери:', abnormalUsers.shape[0]) #Количество аномальных пользователей\n",
    "print('Относительные потери:', round(abnormalUsers.shape[0]/len(list_total) * 100, 2))"
   ]
  },
  {
   "cell_type": "code",
   "execution_count": 39,
   "metadata": {},
   "outputs": [],
   "source": [
    "#выборки количества заказов по пользователям по группам теста по очищенным данным\n",
    "sampleAFiltered = pd.concat(\n",
    "    [\n",
    "        ordersByUsersA[\n",
    "            np.logical_not(ordersByUsersA['userId'].isin(abnormalUsers))\n",
    "        ]['orders'],\n",
    "        pd.Series(\n",
    "            0,\n",
    "            index=np.arange(\n",
    "                visitors_A['visitors'].sum() - len(ordersByUsersA['orders'])\n",
    "            ),\n",
    "            name='orders',\n",
    "        ),\n",
    "    ],\n",
    "    axis=0,\n",
    ")\n",
    "\n",
    "sampleBFiltered = pd.concat(\n",
    "    [\n",
    "        ordersByUsersB[\n",
    "            np.logical_not(ordersByUsersB['userId'].isin(abnormalUsers))\n",
    "        ]['orders'],\n",
    "        pd.Series(\n",
    "            0,\n",
    "            index=np.arange(\n",
    "                visitors_B['visitors'].sum() - len(ordersByUsersB['orders'])\n",
    "            ),\n",
    "            name='orders',\n",
    "        ),\n",
    "    ],\n",
    "    axis=0,\n",
    ") "
   ]
  },
  {
   "cell_type": "code",
   "execution_count": 40,
   "metadata": {},
   "outputs": [
    {
     "name": "stdout",
     "output_type": "stream",
     "text": [
      "P-value: 0.016\n",
      "Относительная разница между сравниваемыми величинами: 0.174\n"
     ]
    }
   ],
   "source": [
    "#Применим статистический критерий Манна-Уитни к полученным выборкам\n",
    "print('P-value:', '{0:.3f}'.format(stats.mannwhitneyu(sampleAFiltered, sampleBFiltered)[1]))\n",
    "print('Относительная разница между сравниваемыми величинами:', '{0:.3f}'.format(sampleBFiltered.mean()/sampleAFiltered.mean()-1))"
   ]
  },
  {
   "cell_type": "markdown",
   "metadata": {},
   "source": [
    "**Вывод**\n",
    "\n",
    "Результаты по среднему количеству заказов практически не изменились. "
   ]
  },
  {
   "cell_type": "markdown",
   "metadata": {},
   "source": [
    "### Посчитаем статистическую значимость различий в среднем чеке заказа между группами по «очищенным» данным."
   ]
  },
  {
   "cell_type": "code",
   "execution_count": 41,
   "metadata": {},
   "outputs": [
    {
     "name": "stdout",
     "output_type": "stream",
     "text": [
      "P-value: 0.727\n",
      "Относительная разница между сравниваемыми величинами: -0.034\n"
     ]
    }
   ],
   "source": [
    "print(\n",
    "    'P-value: {0:.3f}'.format(\n",
    "        stats.mannwhitneyu(\n",
    "            orders[\n",
    "                np.logical_and(\n",
    "                    orders['group'] == 'A',\n",
    "                    np.logical_not(orders['visitorId'].isin(abnormalUsers)),\n",
    "                )\n",
    "            ]['revenue'],\n",
    "            orders[\n",
    "                np.logical_and(\n",
    "                    orders['group'] == 'B',\n",
    "                    np.logical_not(orders['visitorId'].isin(abnormalUsers)),\n",
    "                )\n",
    "            ]['revenue'],\n",
    "        )[1]\n",
    "    )\n",
    ")\n",
    "\n",
    "print(\n",
    "    \"Относительная разница между сравниваемыми величинами: {0:.3f}\".format(\n",
    "        orders[\n",
    "            np.logical_and(\n",
    "                orders['group'] == 'B',\n",
    "                np.logical_not(orders['visitorId'].isin(abnormalUsers)),\n",
    "            )\n",
    "        ]['revenue'].mean()\n",
    "        / orders[\n",
    "            np.logical_and(\n",
    "                orders['group'] == 'A',\n",
    "                np.logical_not(orders['visitorId'].isin(abnormalUsers)),\n",
    "            )\n",
    "        ]['revenue'].mean()\n",
    "        - 1\n",
    "    )\n",
    ") "
   ]
  },
  {
   "cell_type": "markdown",
   "metadata": {},
   "source": [
    "**Вывод**\n",
    "\n",
    "*P-value* немного увеличился, но и разница между сегментами сократилась с 28.7% до 3.4% теперь в пользу А."
   ]
  },
  {
   "cell_type": "markdown",
   "metadata": {},
   "source": [
    "### Примем решение по результатам теста."
   ]
  },
  {
   "cell_type": "markdown",
   "metadata": {},
   "source": [
    "Имеющиеся факты:\n",
    "\n",
    "- Есть статистически значимое различие по среднему количеству заказов на посетителя между группами по «сырым» данным и по данным после фильтрации аномалий, у группы В заказов больше;\n",
    "- Нет статистически значимого различия по среднему чеку между группами ни по «сырым», ни по данным после фильтрации аномалий;\n",
    "- График различия среднего количества заказов между группами сообщает, что результаты группы B значительно выше группы A, и есть тенденции к его стабильно лучшему положению, каких-то существенных колебаний на графике мы уже не видим;\n",
    "- График различия средних чеков не стабилизировался за этот период и, судя по графику, к этому нет никаких предпосылок - колебания на графике не пропали;\n",
    "- A/B тест идет уже месяц - достаточно долгий срок;\n",
    "\n",
    "Исходя из обнаруженных фактов, следует остановить тест, зафиксировать победу группы В.\n",
    "\n",
    "Кажется, что за месяц теста мы собрали достаточно данных, чтобы получить искомые выводы. Продление теста может сильно нарушить вводные, из которых был спроектирован тест."
   ]
  }
 ],
 "metadata": {
  "ExecuteTimeLog": [
   {
    "duration": 476,
    "start_time": "2023-03-20T13:23:17.273Z"
   },
   {
    "duration": 73,
    "start_time": "2023-03-20T13:24:49.225Z"
   },
   {
    "duration": 15,
    "start_time": "2023-03-20T13:24:59.401Z"
   },
   {
    "duration": 1024,
    "start_time": "2023-03-20T13:28:25.222Z"
   },
   {
    "duration": 3101,
    "start_time": "2023-03-20T13:30:03.427Z"
   },
   {
    "duration": 3,
    "start_time": "2023-03-20T13:30:09.057Z"
   },
   {
    "duration": 13,
    "start_time": "2023-03-20T13:30:11.025Z"
   },
   {
    "duration": 11,
    "start_time": "2023-03-20T13:30:19.585Z"
   },
   {
    "duration": 15,
    "start_time": "2023-03-20T13:30:42.757Z"
   },
   {
    "duration": 15,
    "start_time": "2023-03-20T13:31:56.017Z"
   },
   {
    "duration": 16,
    "start_time": "2023-03-20T13:32:59.058Z"
   },
   {
    "duration": 3,
    "start_time": "2023-03-20T13:34:18.310Z"
   },
   {
    "duration": 8,
    "start_time": "2023-03-20T13:46:46.378Z"
   },
   {
    "duration": 5,
    "start_time": "2023-03-20T13:46:58.534Z"
   },
   {
    "duration": 5,
    "start_time": "2023-03-20T13:47:36.661Z"
   },
   {
    "duration": 9,
    "start_time": "2023-03-20T13:48:01.030Z"
   },
   {
    "duration": 404,
    "start_time": "2023-03-20T13:59:22.436Z"
   },
   {
    "duration": 205,
    "start_time": "2023-03-20T14:03:54.587Z"
   },
   {
    "duration": 26,
    "start_time": "2023-03-20T14:04:44.038Z"
   },
   {
    "duration": 9,
    "start_time": "2023-03-20T14:05:05.143Z"
   },
   {
    "duration": 8,
    "start_time": "2023-03-20T14:05:17.226Z"
   },
   {
    "duration": 7,
    "start_time": "2023-03-20T14:05:50.399Z"
   },
   {
    "duration": 62,
    "start_time": "2023-03-20T14:06:15.307Z"
   },
   {
    "duration": 9,
    "start_time": "2023-03-20T14:06:18.055Z"
   },
   {
    "duration": 191,
    "start_time": "2023-03-20T14:07:24.815Z"
   },
   {
    "duration": 939,
    "start_time": "2023-03-20T14:09:20.539Z"
   },
   {
    "duration": 10,
    "start_time": "2023-03-20T14:09:21.480Z"
   },
   {
    "duration": 8,
    "start_time": "2023-03-20T14:09:21.719Z"
   },
   {
    "duration": 22,
    "start_time": "2023-03-20T14:10:31.731Z"
   },
   {
    "duration": 6,
    "start_time": "2023-03-20T14:13:05.274Z"
   },
   {
    "duration": 7,
    "start_time": "2023-03-20T14:13:31.811Z"
   },
   {
    "duration": 19,
    "start_time": "2023-03-20T14:13:37.255Z"
   },
   {
    "duration": 8,
    "start_time": "2023-03-20T14:16:34.130Z"
   },
   {
    "duration": 51,
    "start_time": "2023-03-20T15:39:46.974Z"
   },
   {
    "duration": 10,
    "start_time": "2023-03-20T15:39:49.600Z"
   },
   {
    "duration": 799,
    "start_time": "2023-03-20T15:39:54.573Z"
   },
   {
    "duration": 105,
    "start_time": "2023-03-20T15:39:55.376Z"
   },
   {
    "duration": 15,
    "start_time": "2023-03-20T15:39:55.483Z"
   },
   {
    "duration": 3,
    "start_time": "2023-03-20T15:39:55.499Z"
   },
   {
    "duration": 16,
    "start_time": "2023-03-20T15:39:55.504Z"
   },
   {
    "duration": 9,
    "start_time": "2023-03-20T15:39:55.522Z"
   },
   {
    "duration": 199,
    "start_time": "2023-03-20T15:39:55.532Z"
   },
   {
    "duration": 7,
    "start_time": "2023-03-20T15:39:55.733Z"
   },
   {
    "duration": 32,
    "start_time": "2023-03-20T15:39:55.741Z"
   },
   {
    "duration": 20,
    "start_time": "2023-03-20T15:39:55.775Z"
   },
   {
    "duration": 10,
    "start_time": "2023-03-20T15:39:55.796Z"
   },
   {
    "duration": 78,
    "start_time": "2023-03-20T15:39:55.807Z"
   },
   {
    "duration": 0,
    "start_time": "2023-03-20T15:39:55.887Z"
   },
   {
    "duration": 320,
    "start_time": "2023-03-20T15:41:56.605Z"
   },
   {
    "duration": 252,
    "start_time": "2023-03-20T15:42:01.667Z"
   },
   {
    "duration": 171,
    "start_time": "2023-03-20T15:42:04.333Z"
   },
   {
    "duration": 210,
    "start_time": "2023-03-20T15:42:48.964Z"
   },
   {
    "duration": 170,
    "start_time": "2023-03-20T15:43:52.962Z"
   },
   {
    "duration": 185,
    "start_time": "2023-03-20T15:44:24.105Z"
   },
   {
    "duration": 162,
    "start_time": "2023-03-20T15:46:07.168Z"
   },
   {
    "duration": 205,
    "start_time": "2023-03-20T15:46:56.602Z"
   },
   {
    "duration": 214,
    "start_time": "2023-03-20T15:47:09.878Z"
   },
   {
    "duration": 167,
    "start_time": "2023-03-20T15:51:13.729Z"
   },
   {
    "duration": 172,
    "start_time": "2023-03-20T15:51:32.185Z"
   },
   {
    "duration": 152,
    "start_time": "2023-03-20T15:54:15.811Z"
   },
   {
    "duration": 154,
    "start_time": "2023-03-20T15:54:22.904Z"
   },
   {
    "duration": 180,
    "start_time": "2023-03-20T15:54:36.467Z"
   },
   {
    "duration": 261,
    "start_time": "2023-03-20T15:54:57.755Z"
   },
   {
    "duration": 201,
    "start_time": "2023-03-20T15:55:06.921Z"
   },
   {
    "duration": 182,
    "start_time": "2023-03-20T15:55:14.691Z"
   },
   {
    "duration": 176,
    "start_time": "2023-03-20T16:01:47.638Z"
   },
   {
    "duration": 179,
    "start_time": "2023-03-20T16:02:21.503Z"
   },
   {
    "duration": 166,
    "start_time": "2023-03-20T16:02:33.769Z"
   },
   {
    "duration": 341,
    "start_time": "2023-03-20T16:03:44.984Z"
   },
   {
    "duration": 289,
    "start_time": "2023-03-20T16:04:29.420Z"
   },
   {
    "duration": 174,
    "start_time": "2023-03-20T16:04:40.210Z"
   },
   {
    "duration": 179,
    "start_time": "2023-03-20T16:04:53.495Z"
   },
   {
    "duration": 173,
    "start_time": "2023-03-20T16:05:03.866Z"
   },
   {
    "duration": 406,
    "start_time": "2023-03-20T16:12:39.074Z"
   },
   {
    "duration": 278,
    "start_time": "2023-03-20T16:12:56.622Z"
   },
   {
    "duration": 171,
    "start_time": "2023-03-20T16:13:15.166Z"
   },
   {
    "duration": 167,
    "start_time": "2023-03-20T16:13:22.867Z"
   },
   {
    "duration": 321,
    "start_time": "2023-03-20T16:13:28.513Z"
   },
   {
    "duration": 263,
    "start_time": "2023-03-20T16:13:47.213Z"
   },
   {
    "duration": 241,
    "start_time": "2023-03-20T16:13:59.773Z"
   },
   {
    "duration": 301,
    "start_time": "2023-03-20T16:14:24.832Z"
   },
   {
    "duration": 1343,
    "start_time": "2023-03-20T16:26:11.779Z"
   },
   {
    "duration": 6,
    "start_time": "2023-03-20T16:27:54.175Z"
   },
   {
    "duration": 21,
    "start_time": "2023-03-20T16:28:12.637Z"
   },
   {
    "duration": 10,
    "start_time": "2023-03-20T16:29:34.270Z"
   },
   {
    "duration": 6,
    "start_time": "2023-03-20T16:29:53.928Z"
   },
   {
    "duration": 224,
    "start_time": "2023-03-20T16:30:30.395Z"
   },
   {
    "duration": 193,
    "start_time": "2023-03-20T16:30:57.967Z"
   },
   {
    "duration": 264,
    "start_time": "2023-03-20T16:39:57.008Z"
   },
   {
    "duration": 343,
    "start_time": "2023-03-20T16:40:29.476Z"
   },
   {
    "duration": 144,
    "start_time": "2023-03-20T16:50:59.211Z"
   },
   {
    "duration": 15,
    "start_time": "2023-03-20T16:52:10.066Z"
   },
   {
    "duration": 12,
    "start_time": "2023-03-20T16:52:50.559Z"
   },
   {
    "duration": 11,
    "start_time": "2023-03-20T16:53:15.704Z"
   },
   {
    "duration": 11,
    "start_time": "2023-03-20T16:53:46.102Z"
   },
   {
    "duration": 112,
    "start_time": "2023-03-20T16:54:12.567Z"
   },
   {
    "duration": 116,
    "start_time": "2023-03-20T16:55:07.276Z"
   },
   {
    "duration": 8,
    "start_time": "2023-03-20T16:58:26.862Z"
   },
   {
    "duration": 130,
    "start_time": "2023-03-20T17:02:09.466Z"
   },
   {
    "duration": 132,
    "start_time": "2023-03-20T17:03:44.157Z"
   },
   {
    "duration": 143,
    "start_time": "2023-03-20T17:04:17.763Z"
   },
   {
    "duration": 250,
    "start_time": "2023-03-20T17:04:49.466Z"
   },
   {
    "duration": 158,
    "start_time": "2023-03-20T17:05:12.641Z"
   },
   {
    "duration": 149,
    "start_time": "2023-03-20T17:05:18.537Z"
   },
   {
    "duration": 181,
    "start_time": "2023-03-20T17:05:25.884Z"
   },
   {
    "duration": 5,
    "start_time": "2023-03-20T17:05:51.221Z"
   },
   {
    "duration": 8,
    "start_time": "2023-03-20T17:07:51.668Z"
   },
   {
    "duration": 22,
    "start_time": "2023-03-20T17:07:59.837Z"
   },
   {
    "duration": 6,
    "start_time": "2023-03-20T17:08:56.210Z"
   },
   {
    "duration": 1053,
    "start_time": "2023-03-20T21:44:35.896Z"
   },
   {
    "duration": 113,
    "start_time": "2023-03-20T21:44:36.951Z"
   },
   {
    "duration": 20,
    "start_time": "2023-03-20T21:44:37.066Z"
   },
   {
    "duration": 5,
    "start_time": "2023-03-20T21:44:37.089Z"
   },
   {
    "duration": 20,
    "start_time": "2023-03-20T21:44:37.096Z"
   },
   {
    "duration": 18,
    "start_time": "2023-03-20T21:44:37.118Z"
   },
   {
    "duration": 172,
    "start_time": "2023-03-20T21:44:37.164Z"
   },
   {
    "duration": 10,
    "start_time": "2023-03-20T21:44:37.338Z"
   },
   {
    "duration": 15,
    "start_time": "2023-03-20T21:44:37.350Z"
   },
   {
    "duration": 23,
    "start_time": "2023-03-20T21:44:37.369Z"
   },
   {
    "duration": 6,
    "start_time": "2023-03-20T21:44:37.394Z"
   },
   {
    "duration": 354,
    "start_time": "2023-03-20T21:44:37.402Z"
   },
   {
    "duration": 336,
    "start_time": "2023-03-20T21:44:37.757Z"
   },
   {
    "duration": 223,
    "start_time": "2023-03-20T21:44:38.096Z"
   },
   {
    "duration": 368,
    "start_time": "2023-03-20T21:44:38.322Z"
   },
   {
    "duration": 7,
    "start_time": "2023-03-20T21:44:38.692Z"
   },
   {
    "duration": 324,
    "start_time": "2023-03-20T21:44:38.701Z"
   },
   {
    "duration": 374,
    "start_time": "2023-03-20T21:44:39.027Z"
   },
   {
    "duration": 15,
    "start_time": "2023-03-20T21:44:39.403Z"
   },
   {
    "duration": 160,
    "start_time": "2023-03-20T21:44:39.420Z"
   },
   {
    "duration": 7,
    "start_time": "2023-03-20T21:44:39.581Z"
   },
   {
    "duration": 156,
    "start_time": "2023-03-20T21:44:39.590Z"
   },
   {
    "duration": 16,
    "start_time": "2023-03-20T21:44:39.748Z"
   },
   {
    "duration": 6,
    "start_time": "2023-03-20T21:44:39.766Z"
   },
   {
    "duration": 145,
    "start_time": "2023-03-20T21:46:10.884Z"
   },
   {
    "duration": 182,
    "start_time": "2023-03-20T22:05:01.760Z"
   },
   {
    "duration": 239,
    "start_time": "2023-03-20T22:07:10.850Z"
   },
   {
    "duration": 237,
    "start_time": "2023-03-20T22:10:18.324Z"
   },
   {
    "duration": 196,
    "start_time": "2023-03-20T22:11:39.804Z"
   },
   {
    "duration": 433,
    "start_time": "2023-03-20T22:12:31.896Z"
   },
   {
    "duration": 195,
    "start_time": "2023-03-20T22:12:39.335Z"
   },
   {
    "duration": 195,
    "start_time": "2023-03-20T22:12:56.464Z"
   },
   {
    "duration": 11,
    "start_time": "2023-03-20T22:21:28.287Z"
   },
   {
    "duration": 1255,
    "start_time": "2023-03-20T22:26:51.280Z"
   },
   {
    "duration": 1169,
    "start_time": "2023-03-20T22:27:13.292Z"
   },
   {
    "duration": 10,
    "start_time": "2023-03-20T22:27:48.172Z"
   },
   {
    "duration": 8,
    "start_time": "2023-03-20T22:31:53.256Z"
   },
   {
    "duration": 20,
    "start_time": "2023-03-20T22:32:14.456Z"
   },
   {
    "duration": 21,
    "start_time": "2023-03-20T22:32:32.304Z"
   },
   {
    "duration": 1173,
    "start_time": "2023-03-20T22:35:45.896Z"
   },
   {
    "duration": 14,
    "start_time": "2023-03-20T22:37:01.628Z"
   },
   {
    "duration": 8,
    "start_time": "2023-03-20T22:45:19.699Z"
   },
   {
    "duration": 44,
    "start_time": "2023-03-21T19:59:47.562Z"
   },
   {
    "duration": 1188,
    "start_time": "2023-03-21T19:59:58.535Z"
   },
   {
    "duration": 67,
    "start_time": "2023-03-21T19:59:59.725Z"
   },
   {
    "duration": 14,
    "start_time": "2023-03-21T19:59:59.794Z"
   },
   {
    "duration": 8,
    "start_time": "2023-03-21T19:59:59.809Z"
   },
   {
    "duration": 8,
    "start_time": "2023-03-21T19:59:59.819Z"
   },
   {
    "duration": 13,
    "start_time": "2023-03-21T19:59:59.828Z"
   },
   {
    "duration": 12,
    "start_time": "2023-03-21T19:59:59.842Z"
   },
   {
    "duration": 139,
    "start_time": "2023-03-21T19:59:59.855Z"
   },
   {
    "duration": 7,
    "start_time": "2023-03-21T19:59:59.996Z"
   },
   {
    "duration": 24,
    "start_time": "2023-03-21T20:00:00.005Z"
   },
   {
    "duration": 26,
    "start_time": "2023-03-21T20:00:00.031Z"
   },
   {
    "duration": 21,
    "start_time": "2023-03-21T20:00:00.058Z"
   },
   {
    "duration": 282,
    "start_time": "2023-03-21T20:00:00.081Z"
   },
   {
    "duration": 236,
    "start_time": "2023-03-21T20:00:00.366Z"
   },
   {
    "duration": 157,
    "start_time": "2023-03-21T20:00:00.604Z"
   },
   {
    "duration": 307,
    "start_time": "2023-03-21T20:00:00.763Z"
   },
   {
    "duration": 7,
    "start_time": "2023-03-21T20:00:01.072Z"
   },
   {
    "duration": 210,
    "start_time": "2023-03-21T20:00:01.080Z"
   },
   {
    "duration": 302,
    "start_time": "2023-03-21T20:00:01.292Z"
   },
   {
    "duration": 10,
    "start_time": "2023-03-21T20:00:01.596Z"
   },
   {
    "duration": 166,
    "start_time": "2023-03-21T20:00:01.607Z"
   },
   {
    "duration": 5,
    "start_time": "2023-03-21T20:00:01.775Z"
   },
   {
    "duration": 159,
    "start_time": "2023-03-21T20:00:01.782Z"
   },
   {
    "duration": 5,
    "start_time": "2023-03-21T20:00:01.943Z"
   },
   {
    "duration": 75,
    "start_time": "2023-03-21T20:00:01.949Z"
   },
   {
    "duration": 222,
    "start_time": "2023-03-21T20:00:02.025Z"
   },
   {
    "duration": 3131,
    "start_time": "2023-03-21T20:00:02.248Z"
   },
   {
    "duration": 0,
    "start_time": "2023-03-21T20:00:05.381Z"
   },
   {
    "duration": 0,
    "start_time": "2023-03-21T20:00:05.382Z"
   },
   {
    "duration": 0,
    "start_time": "2023-03-21T20:00:05.383Z"
   },
   {
    "duration": 0,
    "start_time": "2023-03-21T20:00:05.384Z"
   },
   {
    "duration": 0,
    "start_time": "2023-03-21T20:00:05.385Z"
   },
   {
    "duration": 3,
    "start_time": "2023-03-21T20:00:15.711Z"
   },
   {
    "duration": 8,
    "start_time": "2023-03-21T20:00:27.671Z"
   },
   {
    "duration": 9,
    "start_time": "2023-03-21T20:02:37.925Z"
   },
   {
    "duration": 57,
    "start_time": "2023-03-21T20:04:53.327Z"
   },
   {
    "duration": 9,
    "start_time": "2023-03-21T20:04:56.134Z"
   },
   {
    "duration": 7,
    "start_time": "2023-03-21T20:04:57.948Z"
   },
   {
    "duration": 4,
    "start_time": "2023-03-21T20:11:50.996Z"
   },
   {
    "duration": 12,
    "start_time": "2023-03-21T20:12:18.645Z"
   },
   {
    "duration": 4,
    "start_time": "2023-03-21T20:13:36.565Z"
   },
   {
    "duration": 5,
    "start_time": "2023-03-21T20:19:17.361Z"
   },
   {
    "duration": 5,
    "start_time": "2023-03-21T20:20:15.153Z"
   },
   {
    "duration": 5,
    "start_time": "2023-03-21T20:22:08.229Z"
   },
   {
    "duration": 6,
    "start_time": "2023-03-21T20:22:17.509Z"
   },
   {
    "duration": 5,
    "start_time": "2023-03-21T20:26:16.690Z"
   },
   {
    "duration": 7,
    "start_time": "2023-03-21T20:26:27.593Z"
   },
   {
    "duration": 5,
    "start_time": "2023-03-21T20:27:26.920Z"
   },
   {
    "duration": 5,
    "start_time": "2023-03-21T20:27:32.864Z"
   },
   {
    "duration": 6,
    "start_time": "2023-03-21T20:27:56.711Z"
   },
   {
    "duration": 8,
    "start_time": "2023-03-21T20:30:04.972Z"
   },
   {
    "duration": 7,
    "start_time": "2023-03-21T20:30:15.056Z"
   },
   {
    "duration": 7,
    "start_time": "2023-03-21T20:30:38.020Z"
   },
   {
    "duration": 6,
    "start_time": "2023-03-21T20:32:23.761Z"
   },
   {
    "duration": 5,
    "start_time": "2023-03-21T20:33:00.885Z"
   },
   {
    "duration": 11,
    "start_time": "2023-03-21T20:34:12.390Z"
   },
   {
    "duration": 5,
    "start_time": "2023-03-21T20:34:29.249Z"
   },
   {
    "duration": 6,
    "start_time": "2023-03-21T20:34:44.325Z"
   },
   {
    "duration": 6,
    "start_time": "2023-03-21T20:37:19.106Z"
   },
   {
    "duration": 7,
    "start_time": "2023-03-21T20:37:29.774Z"
   },
   {
    "duration": 7,
    "start_time": "2023-03-21T20:39:36.965Z"
   },
   {
    "duration": 7,
    "start_time": "2023-03-21T20:44:21.184Z"
   },
   {
    "duration": 7,
    "start_time": "2023-03-21T20:44:26.298Z"
   },
   {
    "duration": 7,
    "start_time": "2023-03-21T20:44:31.494Z"
   },
   {
    "duration": 9,
    "start_time": "2023-03-21T20:46:51.442Z"
   },
   {
    "duration": 11,
    "start_time": "2023-03-21T20:47:03.598Z"
   },
   {
    "duration": 24,
    "start_time": "2023-03-21T20:49:36.295Z"
   },
   {
    "duration": 17,
    "start_time": "2023-03-21T20:51:08.907Z"
   },
   {
    "duration": 20,
    "start_time": "2023-03-21T20:51:57.734Z"
   },
   {
    "duration": 6,
    "start_time": "2023-03-21T20:52:10.847Z"
   },
   {
    "duration": 5,
    "start_time": "2023-03-21T20:52:13.435Z"
   },
   {
    "duration": 7,
    "start_time": "2023-03-21T20:52:25.884Z"
   },
   {
    "duration": 6,
    "start_time": "2023-03-21T20:52:27.862Z"
   },
   {
    "duration": 5,
    "start_time": "2023-03-21T20:52:49.563Z"
   },
   {
    "duration": 6,
    "start_time": "2023-03-21T20:53:03.039Z"
   },
   {
    "duration": 28,
    "start_time": "2023-03-21T20:55:15.355Z"
   },
   {
    "duration": 7,
    "start_time": "2023-03-21T20:55:27.498Z"
   },
   {
    "duration": 5,
    "start_time": "2023-03-21T20:55:40.459Z"
   },
   {
    "duration": 6,
    "start_time": "2023-03-21T20:59:35.021Z"
   },
   {
    "duration": 6,
    "start_time": "2023-03-21T20:59:39.385Z"
   },
   {
    "duration": 8,
    "start_time": "2023-03-21T20:59:44.869Z"
   },
   {
    "duration": 3,
    "start_time": "2023-03-21T21:01:48.969Z"
   },
   {
    "duration": 3,
    "start_time": "2023-03-21T21:07:57.963Z"
   },
   {
    "duration": 4,
    "start_time": "2023-03-21T21:08:10.059Z"
   },
   {
    "duration": 4,
    "start_time": "2023-03-21T21:11:26.530Z"
   },
   {
    "duration": 4,
    "start_time": "2023-03-21T21:11:45.195Z"
   },
   {
    "duration": 3,
    "start_time": "2023-03-21T21:36:13.163Z"
   },
   {
    "duration": 3,
    "start_time": "2023-03-21T21:36:17.215Z"
   },
   {
    "duration": 31,
    "start_time": "2023-03-21T21:36:17.220Z"
   },
   {
    "duration": 8,
    "start_time": "2023-03-21T21:36:17.252Z"
   },
   {
    "duration": 12,
    "start_time": "2023-03-21T21:36:17.261Z"
   },
   {
    "duration": 23,
    "start_time": "2023-03-21T21:36:17.275Z"
   },
   {
    "duration": 9,
    "start_time": "2023-03-21T21:36:17.299Z"
   },
   {
    "duration": 23,
    "start_time": "2023-03-21T21:36:17.310Z"
   },
   {
    "duration": 14,
    "start_time": "2023-03-21T21:36:17.334Z"
   },
   {
    "duration": 57,
    "start_time": "2023-03-21T21:36:17.349Z"
   },
   {
    "duration": 8,
    "start_time": "2023-03-21T21:36:17.407Z"
   },
   {
    "duration": 11,
    "start_time": "2023-03-21T21:36:17.417Z"
   },
   {
    "duration": 31,
    "start_time": "2023-03-21T21:36:17.430Z"
   },
   {
    "duration": 11,
    "start_time": "2023-03-21T21:36:17.462Z"
   },
   {
    "duration": 7,
    "start_time": "2023-03-21T21:36:17.478Z"
   },
   {
    "duration": 10,
    "start_time": "2023-03-21T21:36:17.487Z"
   },
   {
    "duration": 41,
    "start_time": "2023-03-21T21:36:17.498Z"
   },
   {
    "duration": 8,
    "start_time": "2023-03-21T21:36:17.541Z"
   },
   {
    "duration": 11,
    "start_time": "2023-03-21T21:36:17.551Z"
   },
   {
    "duration": 12,
    "start_time": "2023-03-21T21:36:17.564Z"
   },
   {
    "duration": 8,
    "start_time": "2023-03-21T21:36:17.578Z"
   },
   {
    "duration": 7,
    "start_time": "2023-03-21T21:36:17.588Z"
   },
   {
    "duration": 316,
    "start_time": "2023-03-21T21:36:17.597Z"
   },
   {
    "duration": 215,
    "start_time": "2023-03-21T21:36:17.915Z"
   },
   {
    "duration": 219,
    "start_time": "2023-03-21T21:36:18.131Z"
   },
   {
    "duration": 300,
    "start_time": "2023-03-21T21:36:18.352Z"
   },
   {
    "duration": 6,
    "start_time": "2023-03-21T21:36:18.654Z"
   },
   {
    "duration": 240,
    "start_time": "2023-03-21T21:36:18.661Z"
   },
   {
    "duration": 330,
    "start_time": "2023-03-21T21:36:18.903Z"
   },
   {
    "duration": 12,
    "start_time": "2023-03-21T21:36:19.235Z"
   },
   {
    "duration": 177,
    "start_time": "2023-03-21T21:36:19.249Z"
   },
   {
    "duration": 4,
    "start_time": "2023-03-21T21:36:19.427Z"
   },
   {
    "duration": 158,
    "start_time": "2023-03-21T21:36:19.433Z"
   },
   {
    "duration": 3,
    "start_time": "2023-03-21T21:36:19.593Z"
   },
   {
    "duration": 6,
    "start_time": "2023-03-21T21:36:19.598Z"
   },
   {
    "duration": 232,
    "start_time": "2023-03-21T21:36:19.606Z"
   },
   {
    "duration": 793,
    "start_time": "2023-03-21T21:36:19.839Z"
   },
   {
    "duration": 0,
    "start_time": "2023-03-21T21:36:20.634Z"
   },
   {
    "duration": 0,
    "start_time": "2023-03-21T21:36:20.635Z"
   },
   {
    "duration": 0,
    "start_time": "2023-03-21T21:36:20.636Z"
   },
   {
    "duration": 0,
    "start_time": "2023-03-21T21:36:20.637Z"
   },
   {
    "duration": 0,
    "start_time": "2023-03-21T21:36:20.638Z"
   },
   {
    "duration": 3,
    "start_time": "2023-03-21T21:37:10.683Z"
   },
   {
    "duration": 35,
    "start_time": "2023-03-21T21:37:10.688Z"
   },
   {
    "duration": 8,
    "start_time": "2023-03-21T21:37:10.724Z"
   },
   {
    "duration": 6,
    "start_time": "2023-03-21T21:37:10.733Z"
   },
   {
    "duration": 10,
    "start_time": "2023-03-21T21:37:10.741Z"
   },
   {
    "duration": 5,
    "start_time": "2023-03-21T21:37:10.752Z"
   },
   {
    "duration": 12,
    "start_time": "2023-03-21T21:37:10.758Z"
   },
   {
    "duration": 16,
    "start_time": "2023-03-21T21:37:10.771Z"
   },
   {
    "duration": 49,
    "start_time": "2023-03-21T21:37:10.788Z"
   },
   {
    "duration": 8,
    "start_time": "2023-03-21T21:37:10.838Z"
   },
   {
    "duration": 12,
    "start_time": "2023-03-21T21:37:10.847Z"
   },
   {
    "duration": 17,
    "start_time": "2023-03-21T21:37:10.860Z"
   },
   {
    "duration": 5,
    "start_time": "2023-03-21T21:37:10.879Z"
   },
   {
    "duration": 11,
    "start_time": "2023-03-21T21:37:10.887Z"
   },
   {
    "duration": 6,
    "start_time": "2023-03-21T21:37:10.900Z"
   },
   {
    "duration": 4,
    "start_time": "2023-03-21T21:37:10.922Z"
   },
   {
    "duration": 40,
    "start_time": "2023-03-21T21:37:10.928Z"
   },
   {
    "duration": 17,
    "start_time": "2023-03-21T21:37:10.970Z"
   },
   {
    "duration": 7,
    "start_time": "2023-03-21T21:37:10.989Z"
   },
   {
    "duration": 19,
    "start_time": "2023-03-21T21:37:10.998Z"
   },
   {
    "duration": 14,
    "start_time": "2023-03-21T21:37:11.019Z"
   },
   {
    "duration": 273,
    "start_time": "2023-03-21T21:37:11.035Z"
   },
   {
    "duration": 204,
    "start_time": "2023-03-21T21:37:11.310Z"
   },
   {
    "duration": 211,
    "start_time": "2023-03-21T21:37:11.516Z"
   },
   {
    "duration": 315,
    "start_time": "2023-03-21T21:37:11.729Z"
   },
   {
    "duration": 8,
    "start_time": "2023-03-21T21:37:12.046Z"
   },
   {
    "duration": 284,
    "start_time": "2023-03-21T21:37:12.056Z"
   },
   {
    "duration": 303,
    "start_time": "2023-03-21T21:37:12.341Z"
   },
   {
    "duration": 10,
    "start_time": "2023-03-21T21:37:12.646Z"
   },
   {
    "duration": 165,
    "start_time": "2023-03-21T21:37:12.657Z"
   },
   {
    "duration": 5,
    "start_time": "2023-03-21T21:37:12.823Z"
   },
   {
    "duration": 151,
    "start_time": "2023-03-21T21:37:12.829Z"
   },
   {
    "duration": 5,
    "start_time": "2023-03-21T21:37:12.981Z"
   },
   {
    "duration": 11,
    "start_time": "2023-03-21T21:37:12.987Z"
   },
   {
    "duration": 343,
    "start_time": "2023-03-21T21:37:12.999Z"
   },
   {
    "duration": 943,
    "start_time": "2023-03-21T21:37:13.343Z"
   },
   {
    "duration": 0,
    "start_time": "2023-03-21T21:37:14.288Z"
   },
   {
    "duration": 0,
    "start_time": "2023-03-21T21:37:14.289Z"
   },
   {
    "duration": 0,
    "start_time": "2023-03-21T21:37:14.290Z"
   },
   {
    "duration": 0,
    "start_time": "2023-03-21T21:37:14.291Z"
   },
   {
    "duration": 0,
    "start_time": "2023-03-21T21:37:14.292Z"
   },
   {
    "duration": 3,
    "start_time": "2023-03-21T21:37:31.102Z"
   },
   {
    "duration": 59,
    "start_time": "2023-03-21T21:37:31.107Z"
   },
   {
    "duration": 10,
    "start_time": "2023-03-21T21:37:31.168Z"
   },
   {
    "duration": 28,
    "start_time": "2023-03-21T21:37:31.179Z"
   },
   {
    "duration": 39,
    "start_time": "2023-03-21T21:37:31.208Z"
   },
   {
    "duration": 19,
    "start_time": "2023-03-21T21:37:31.248Z"
   },
   {
    "duration": 31,
    "start_time": "2023-03-21T21:37:31.269Z"
   },
   {
    "duration": 31,
    "start_time": "2023-03-21T21:37:31.301Z"
   },
   {
    "duration": 95,
    "start_time": "2023-03-21T21:37:31.334Z"
   },
   {
    "duration": 6,
    "start_time": "2023-03-21T21:37:31.431Z"
   },
   {
    "duration": 29,
    "start_time": "2023-03-21T21:37:31.439Z"
   },
   {
    "duration": 51,
    "start_time": "2023-03-21T21:37:31.470Z"
   },
   {
    "duration": 37,
    "start_time": "2023-03-21T21:37:31.522Z"
   },
   {
    "duration": 78,
    "start_time": "2023-03-21T21:37:31.561Z"
   },
   {
    "duration": 47,
    "start_time": "2023-03-21T21:37:31.641Z"
   },
   {
    "duration": 31,
    "start_time": "2023-03-21T21:37:31.690Z"
   },
   {
    "duration": 49,
    "start_time": "2023-03-21T21:37:31.722Z"
   },
   {
    "duration": 26,
    "start_time": "2023-03-21T21:37:31.773Z"
   },
   {
    "duration": 27,
    "start_time": "2023-03-21T21:37:31.801Z"
   },
   {
    "duration": 19,
    "start_time": "2023-03-21T21:37:31.830Z"
   },
   {
    "duration": 19,
    "start_time": "2023-03-21T21:37:31.851Z"
   },
   {
    "duration": 259,
    "start_time": "2023-03-21T21:37:31.872Z"
   },
   {
    "duration": 167,
    "start_time": "2023-03-21T21:37:32.133Z"
   },
   {
    "duration": 177,
    "start_time": "2023-03-21T21:37:32.302Z"
   },
   {
    "duration": 252,
    "start_time": "2023-03-21T21:37:32.481Z"
   },
   {
    "duration": 6,
    "start_time": "2023-03-21T21:37:32.735Z"
   },
   {
    "duration": 184,
    "start_time": "2023-03-21T21:37:32.743Z"
   },
   {
    "duration": 266,
    "start_time": "2023-03-21T21:37:32.930Z"
   },
   {
    "duration": 10,
    "start_time": "2023-03-21T21:37:33.198Z"
   },
   {
    "duration": 127,
    "start_time": "2023-03-21T21:37:33.222Z"
   },
   {
    "duration": 5,
    "start_time": "2023-03-21T21:37:33.350Z"
   },
   {
    "duration": 186,
    "start_time": "2023-03-21T21:37:33.356Z"
   },
   {
    "duration": 5,
    "start_time": "2023-03-21T21:37:33.544Z"
   },
   {
    "duration": 6,
    "start_time": "2023-03-21T21:37:33.550Z"
   },
   {
    "duration": 311,
    "start_time": "2023-03-21T21:37:33.557Z"
   },
   {
    "duration": 1181,
    "start_time": "2023-03-21T21:37:33.869Z"
   },
   {
    "duration": 0,
    "start_time": "2023-03-21T21:37:35.051Z"
   },
   {
    "duration": 0,
    "start_time": "2023-03-21T21:37:35.053Z"
   },
   {
    "duration": 0,
    "start_time": "2023-03-21T21:37:35.054Z"
   },
   {
    "duration": 0,
    "start_time": "2023-03-21T21:37:35.055Z"
   },
   {
    "duration": 0,
    "start_time": "2023-03-21T21:37:35.056Z"
   },
   {
    "duration": 148,
    "start_time": "2023-03-21T21:38:21.634Z"
   },
   {
    "duration": 162,
    "start_time": "2023-03-21T21:38:39.666Z"
   },
   {
    "duration": 165,
    "start_time": "2023-03-21T21:39:58.418Z"
   },
   {
    "duration": 194,
    "start_time": "2023-03-21T21:40:50.202Z"
   },
   {
    "duration": 292,
    "start_time": "2023-03-21T21:41:43.524Z"
   },
   {
    "duration": 175,
    "start_time": "2023-03-21T21:42:09.802Z"
   },
   {
    "duration": 260,
    "start_time": "2023-03-21T21:42:40.747Z"
   },
   {
    "duration": 3,
    "start_time": "2023-03-21T22:34:15.359Z"
   },
   {
    "duration": 28,
    "start_time": "2023-03-21T22:34:15.364Z"
   },
   {
    "duration": 8,
    "start_time": "2023-03-21T22:34:15.394Z"
   },
   {
    "duration": 4,
    "start_time": "2023-03-21T22:34:15.404Z"
   },
   {
    "duration": 11,
    "start_time": "2023-03-21T22:34:15.410Z"
   },
   {
    "duration": 7,
    "start_time": "2023-03-21T22:34:15.422Z"
   },
   {
    "duration": 14,
    "start_time": "2023-03-21T22:34:15.430Z"
   },
   {
    "duration": 11,
    "start_time": "2023-03-21T22:34:15.445Z"
   },
   {
    "duration": 53,
    "start_time": "2023-03-21T22:34:15.458Z"
   },
   {
    "duration": 7,
    "start_time": "2023-03-21T22:34:15.513Z"
   },
   {
    "duration": 9,
    "start_time": "2023-03-21T22:34:15.522Z"
   },
   {
    "duration": 15,
    "start_time": "2023-03-21T22:34:15.532Z"
   },
   {
    "duration": 6,
    "start_time": "2023-03-21T22:34:15.549Z"
   },
   {
    "duration": 8,
    "start_time": "2023-03-21T22:34:15.559Z"
   },
   {
    "duration": 8,
    "start_time": "2023-03-21T22:34:15.568Z"
   },
   {
    "duration": 45,
    "start_time": "2023-03-21T22:34:15.577Z"
   },
   {
    "duration": 3,
    "start_time": "2023-03-21T22:34:15.624Z"
   },
   {
    "duration": 6,
    "start_time": "2023-03-21T22:34:15.629Z"
   },
   {
    "duration": 10,
    "start_time": "2023-03-21T22:34:15.636Z"
   },
   {
    "duration": 6,
    "start_time": "2023-03-21T22:34:15.647Z"
   },
   {
    "duration": 6,
    "start_time": "2023-03-21T22:34:15.655Z"
   },
   {
    "duration": 291,
    "start_time": "2023-03-21T22:34:15.662Z"
   },
   {
    "duration": 259,
    "start_time": "2023-03-21T22:34:15.955Z"
   },
   {
    "duration": 217,
    "start_time": "2023-03-21T22:34:16.221Z"
   },
   {
    "duration": 423,
    "start_time": "2023-03-21T22:34:16.440Z"
   },
   {
    "duration": 5,
    "start_time": "2023-03-21T22:34:16.865Z"
   },
   {
    "duration": 221,
    "start_time": "2023-03-21T22:34:16.871Z"
   },
   {
    "duration": 313,
    "start_time": "2023-03-21T22:34:17.093Z"
   },
   {
    "duration": 17,
    "start_time": "2023-03-21T22:34:17.408Z"
   },
   {
    "duration": 162,
    "start_time": "2023-03-21T22:34:17.426Z"
   },
   {
    "duration": 4,
    "start_time": "2023-03-21T22:34:17.590Z"
   },
   {
    "duration": 141,
    "start_time": "2023-03-21T22:34:17.596Z"
   },
   {
    "duration": 4,
    "start_time": "2023-03-21T22:34:17.739Z"
   },
   {
    "duration": 7,
    "start_time": "2023-03-21T22:34:17.745Z"
   },
   {
    "duration": 216,
    "start_time": "2023-03-21T22:34:17.753Z"
   },
   {
    "duration": 819,
    "start_time": "2023-03-21T22:34:17.970Z"
   },
   {
    "duration": 0,
    "start_time": "2023-03-21T22:34:18.791Z"
   },
   {
    "duration": 0,
    "start_time": "2023-03-21T22:34:18.792Z"
   },
   {
    "duration": 0,
    "start_time": "2023-03-21T22:34:18.792Z"
   },
   {
    "duration": 0,
    "start_time": "2023-03-21T22:34:18.793Z"
   },
   {
    "duration": 0,
    "start_time": "2023-03-21T22:34:18.794Z"
   },
   {
    "duration": 138,
    "start_time": "2023-03-21T22:34:44.830Z"
   },
   {
    "duration": 9,
    "start_time": "2023-03-21T22:35:45.677Z"
   },
   {
    "duration": 105,
    "start_time": "2023-03-21T22:37:07.697Z"
   },
   {
    "duration": 151,
    "start_time": "2023-03-21T22:37:24.842Z"
   },
   {
    "duration": 758,
    "start_time": "2023-03-21T22:43:46.275Z"
   },
   {
    "duration": 143,
    "start_time": "2023-03-21T22:46:03.416Z"
   },
   {
    "duration": 132,
    "start_time": "2023-03-21T22:53:35.653Z"
   },
   {
    "duration": 146,
    "start_time": "2023-03-21T22:56:09.326Z"
   },
   {
    "duration": 10,
    "start_time": "2023-03-21T23:03:28.762Z"
   },
   {
    "duration": 8,
    "start_time": "2023-03-21T23:03:54.843Z"
   },
   {
    "duration": 8,
    "start_time": "2023-03-21T23:04:18.010Z"
   },
   {
    "duration": 7,
    "start_time": "2023-03-21T23:04:28.670Z"
   },
   {
    "duration": 9,
    "start_time": "2023-03-21T23:04:55.606Z"
   },
   {
    "duration": 157,
    "start_time": "2023-03-21T23:05:25.123Z"
   },
   {
    "duration": 121,
    "start_time": "2023-03-22T00:02:31.554Z"
   },
   {
    "duration": 9,
    "start_time": "2023-03-22T00:06:09.558Z"
   },
   {
    "duration": 7,
    "start_time": "2023-03-22T00:09:08.718Z"
   },
   {
    "duration": 7,
    "start_time": "2023-03-22T00:09:26.582Z"
   },
   {
    "duration": 19,
    "start_time": "2023-03-22T00:09:27.490Z"
   },
   {
    "duration": 11,
    "start_time": "2023-03-22T00:10:02.127Z"
   },
   {
    "duration": 7,
    "start_time": "2023-03-22T00:10:24.575Z"
   },
   {
    "duration": 7,
    "start_time": "2023-03-22T00:10:29.206Z"
   },
   {
    "duration": 18,
    "start_time": "2023-03-22T00:10:30.079Z"
   },
   {
    "duration": 8,
    "start_time": "2023-03-22T00:11:06.362Z"
   },
   {
    "duration": 7,
    "start_time": "2023-03-22T00:11:10.326Z"
   },
   {
    "duration": 21,
    "start_time": "2023-03-22T00:11:11.946Z"
   },
   {
    "duration": 8,
    "start_time": "2023-03-22T00:14:46.387Z"
   },
   {
    "duration": 9,
    "start_time": "2023-03-22T00:16:33.607Z"
   },
   {
    "duration": 10,
    "start_time": "2023-03-22T00:17:04.802Z"
   },
   {
    "duration": 9,
    "start_time": "2023-03-22T00:17:30.382Z"
   },
   {
    "duration": 9,
    "start_time": "2023-03-22T00:18:38.590Z"
   },
   {
    "duration": 8,
    "start_time": "2023-03-22T00:18:50.911Z"
   },
   {
    "duration": 9,
    "start_time": "2023-03-22T00:20:31.114Z"
   },
   {
    "duration": 9,
    "start_time": "2023-03-22T00:20:41.027Z"
   },
   {
    "duration": 11,
    "start_time": "2023-03-22T00:20:58.764Z"
   },
   {
    "duration": 10,
    "start_time": "2023-03-22T00:21:14.125Z"
   },
   {
    "duration": 10,
    "start_time": "2023-03-22T00:21:57.594Z"
   },
   {
    "duration": 7,
    "start_time": "2023-03-22T00:23:14.891Z"
   },
   {
    "duration": 21,
    "start_time": "2023-03-22T00:23:15.531Z"
   },
   {
    "duration": 7,
    "start_time": "2023-03-22T00:23:59.406Z"
   },
   {
    "duration": 18,
    "start_time": "2023-03-22T00:24:00.107Z"
   },
   {
    "duration": 8,
    "start_time": "2023-03-22T00:25:01.794Z"
   },
   {
    "duration": 18,
    "start_time": "2023-03-22T00:25:02.727Z"
   },
   {
    "duration": 9,
    "start_time": "2023-03-22T00:26:08.340Z"
   },
   {
    "duration": 32,
    "start_time": "2023-03-22T00:26:31.935Z"
   },
   {
    "duration": 9,
    "start_time": "2023-03-22T00:26:42.523Z"
   },
   {
    "duration": 14,
    "start_time": "2023-03-22T00:27:14.066Z"
   },
   {
    "duration": 140,
    "start_time": "2023-03-22T00:45:29.895Z"
   },
   {
    "duration": 1224,
    "start_time": "2023-03-22T21:36:34.426Z"
   },
   {
    "duration": 28,
    "start_time": "2023-03-22T21:36:35.652Z"
   },
   {
    "duration": 16,
    "start_time": "2023-03-22T21:36:35.683Z"
   },
   {
    "duration": 6,
    "start_time": "2023-03-22T21:36:35.701Z"
   },
   {
    "duration": 11,
    "start_time": "2023-03-22T21:36:35.709Z"
   },
   {
    "duration": 4,
    "start_time": "2023-03-22T21:36:35.721Z"
   },
   {
    "duration": 13,
    "start_time": "2023-03-22T21:36:35.727Z"
   },
   {
    "duration": 29,
    "start_time": "2023-03-22T21:36:35.742Z"
   },
   {
    "duration": 78,
    "start_time": "2023-03-22T21:36:35.773Z"
   },
   {
    "duration": 9,
    "start_time": "2023-03-22T21:36:35.852Z"
   },
   {
    "duration": 15,
    "start_time": "2023-03-22T21:36:35.865Z"
   },
   {
    "duration": 19,
    "start_time": "2023-03-22T21:36:35.882Z"
   },
   {
    "duration": 7,
    "start_time": "2023-03-22T21:36:35.903Z"
   },
   {
    "duration": 9,
    "start_time": "2023-03-22T21:36:35.913Z"
   },
   {
    "duration": 44,
    "start_time": "2023-03-22T21:36:35.923Z"
   },
   {
    "duration": 7,
    "start_time": "2023-03-22T21:36:35.970Z"
   },
   {
    "duration": 6,
    "start_time": "2023-03-22T21:36:35.979Z"
   },
   {
    "duration": 7,
    "start_time": "2023-03-22T21:36:35.987Z"
   },
   {
    "duration": 11,
    "start_time": "2023-03-22T21:36:35.996Z"
   },
   {
    "duration": 16,
    "start_time": "2023-03-22T21:36:36.009Z"
   },
   {
    "duration": 36,
    "start_time": "2023-03-22T21:36:36.026Z"
   },
   {
    "duration": 307,
    "start_time": "2023-03-22T21:36:36.064Z"
   },
   {
    "duration": 318,
    "start_time": "2023-03-22T21:36:36.373Z"
   },
   {
    "duration": 219,
    "start_time": "2023-03-22T21:36:36.693Z"
   },
   {
    "duration": 329,
    "start_time": "2023-03-22T21:36:36.914Z"
   },
   {
    "duration": 16,
    "start_time": "2023-03-22T21:36:37.245Z"
   },
   {
    "duration": 255,
    "start_time": "2023-03-22T21:36:37.264Z"
   },
   {
    "duration": 346,
    "start_time": "2023-03-22T21:36:37.520Z"
   },
   {
    "duration": 14,
    "start_time": "2023-03-22T21:36:37.868Z"
   },
   {
    "duration": 205,
    "start_time": "2023-03-22T21:36:37.884Z"
   },
   {
    "duration": 5,
    "start_time": "2023-03-22T21:36:38.090Z"
   },
   {
    "duration": 176,
    "start_time": "2023-03-22T21:36:38.097Z"
   },
   {
    "duration": 7,
    "start_time": "2023-03-22T21:36:38.276Z"
   },
   {
    "duration": 205,
    "start_time": "2023-03-22T21:36:38.285Z"
   },
   {
    "duration": 4,
    "start_time": "2023-03-22T21:36:38.492Z"
   },
   {
    "duration": 276,
    "start_time": "2023-03-22T21:36:38.498Z"
   },
   {
    "duration": 14,
    "start_time": "2023-03-22T21:36:38.777Z"
   },
   {
    "duration": 10,
    "start_time": "2023-03-22T21:36:38.793Z"
   },
   {
    "duration": 6,
    "start_time": "2023-03-22T21:36:38.805Z"
   },
   {
    "duration": 57,
    "start_time": "2023-03-22T21:36:38.813Z"
   },
   {
    "duration": 14,
    "start_time": "2023-03-22T21:36:38.874Z"
   }
  ],
  "kernelspec": {
   "display_name": "Python 3 (ipykernel)",
   "language": "python",
   "name": "python3"
  },
  "language_info": {
   "codemirror_mode": {
    "name": "ipython",
    "version": 3
   },
   "file_extension": ".py",
   "mimetype": "text/x-python",
   "name": "python",
   "nbconvert_exporter": "python",
   "pygments_lexer": "ipython3",
   "version": "3.9.13"
  },
  "toc": {
   "base_numbering": 1,
   "nav_menu": {},
   "number_sections": true,
   "sideBar": true,
   "skip_h1_title": true,
   "title_cell": "Table of Contents",
   "title_sidebar": "Contents",
   "toc_cell": false,
   "toc_position": {},
   "toc_section_display": true,
   "toc_window_display": true
  }
 },
 "nbformat": 4,
 "nbformat_minor": 2
}
